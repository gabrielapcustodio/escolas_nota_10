{
 "cells": [
  {
   "cell_type": "markdown",
   "metadata": {
    "id": "-tJXd8odwJlB"
   },
   "source": [
    "# **Análise:** 'Escola Nota 10': como é a educação na cidade do CE onde mais cresceu número de unidades premiadas?\n",
    "\n",
    "Notebook com análise de dados para produção de notícia para o *Diário do Nordeste* sobre o Escola Nota 10 é uma premiação criada por lei, da Secretaria da Educação do Ceará (Seduc), que reconhece as unidades de ensino que apresentam os melhores desempenhos dos alunos nas avaliações do Sistema Permanente de Avaliação da Educação Básica do Ceará (Spaece).\n",
    "\n",
    "Encontramos que a cidade de Massapê (CE) foi a que mais teve uma variação positiva no número de escolas reconhecidas na premiação entre as edições realizadas em 2019 e 2022. A escola de ensino fundamental Padre Linhares, especificamente, foi premiada nas três séries avaliadas: 2º ano (alfabetização), 5º ano e 9º ano (matemática e português).\n",
    "\n",
    "A partir desses indicadores, buscamos a secretaria municipal da educação de Massapê, assim como a direção e a coordenação da escola Padre Linhares, para entender as medidas adotadas no município e na unidade de ensino para conseguir esses bons resultados.\n",
    "\n",
    "A matéria foi publicada no dia 26 de junho de 2023 e pode ser lida [neste link, no Diário do Nordeste](https://diariodonordeste.verdesmares.com.br/ceara/escola-nota-10-como-e-a-educacao-na-cidade-do-ce-onde-mais-cresceu-numero-de-unidades-premiadas-1.3384890/).\n",
    "\n",
    "**Coleta e análise de dados:** Gabriela Custódio\n",
    "\n",
    "**Reportagem:** Gabriela Custódio\n",
    "\n",
    "**Edição da reportagem:** Dahiana Araújo"
   ]
  },
  {
   "cell_type": "code",
   "execution_count": 17,
   "metadata": {
    "executionInfo": {
     "elapsed": 2,
     "status": "ok",
     "timestamp": 1687834103564,
     "user": {
      "displayName": "Gabriela Custódio",
      "userId": "17879241500396315997"
     },
     "user_tz": 180
    },
    "id": "FwKKkNNAirkd"
   },
   "outputs": [],
   "source": [
    "import pandas as pd\n",
    "import numpy as np\n",
    "import re"
   ]
  },
  {
   "cell_type": "code",
   "execution_count": 98,
   "metadata": {},
   "outputs": [],
   "source": [
    "path = 'arquivos_utilizados/'"
   ]
  },
  {
   "cell_type": "code",
   "execution_count": 101,
   "metadata": {
    "executionInfo": {
     "elapsed": 988,
     "status": "ok",
     "timestamp": 1687833925209,
     "user": {
      "displayName": "Gabriela Custódio",
      "userId": "17879241500396315997"
     },
     "user_tz": 180
    },
    "id": "iiGdNxRRjKs3"
   },
   "outputs": [],
   "source": [
    "df = pd.read_csv(path + 'Escolas Nota 10 - Total.csv')"
   ]
  },
  {
   "cell_type": "code",
   "execution_count": 102,
   "metadata": {},
   "outputs": [],
   "source": [
    "arquivos_gerados = 'arquivos_gerados/'"
   ]
  },
  {
   "cell_type": "code",
   "execution_count": 103,
   "metadata": {
    "executionInfo": {
     "elapsed": 12,
     "status": "ok",
     "timestamp": 1687833925210,
     "user": {
      "displayName": "Gabriela Custódio",
      "userId": "17879241500396315997"
     },
     "user_tz": 180
    },
    "id": "2ombWY_3hZGd"
   },
   "outputs": [],
   "source": [
    "the_geom = df[['Geometria', 'Código', 'Município']]"
   ]
  },
  {
   "cell_type": "code",
   "execution_count": 104,
   "metadata": {
    "executionInfo": {
     "elapsed": 10,
     "status": "ok",
     "timestamp": 1687833925211,
     "user": {
      "displayName": "Gabriela Custódio",
      "userId": "17879241500396315997"
     },
     "user_tz": 180
    },
    "id": "ekQdd9Q4jiyH"
   },
   "outputs": [],
   "source": [
    "data = df[df['Premiada?'] == 'SIM']"
   ]
  },
  {
   "cell_type": "markdown",
   "metadata": {
    "id": "d7EWVg1JJrlO"
   },
   "source": [
    "## Ceará"
   ]
  },
  {
   "cell_type": "code",
   "execution_count": 105,
   "metadata": {
    "executionInfo": {
     "elapsed": 308,
     "status": "ok",
     "timestamp": 1687833935022,
     "user": {
      "displayName": "Gabriela Custódio",
      "userId": "17879241500396315997"
     },
     "user_tz": 180
    },
    "id": "Avre8dgFGGfI"
   },
   "outputs": [],
   "source": [
    "# quantidade de prêmios por ano\n",
    "premios_municipios_ano = data[['Ano', 'Código', 'Município']].value_counts().reset_index()\n",
    "premios_municipios_ano_pivot = premios_municipios_ano.pivot_table(index=['Código', 'Município'], columns='Ano', values=0).fillna(0).reset_index()\n",
    "premios_municipios_ano_pivot['Mudança_2022_2019'] = premios_municipios_ano_pivot[2022].sub(premios_municipios_ano_pivot[2019], axis=0)\n",
    "premios_municipios_ano_pivot = premios_municipios_ano_pivot.sort_values('Mudança_2022_2019', ascending=False)"
   ]
  },
  {
   "cell_type": "code",
   "execution_count": 106,
   "metadata": {
    "colab": {
     "base_uri": "https://localhost:8080/",
     "height": 112
    },
    "executionInfo": {
     "elapsed": 12,
     "status": "ok",
     "timestamp": 1687833935955,
     "user": {
      "displayName": "Gabriela Custódio",
      "userId": "17879241500396315997"
     },
     "user_tz": 180
    },
    "id": "-iso-4WYHpDM",
    "outputId": "74702016-6980-43f9-d540-ee68cffa0bab"
   },
   "outputs": [
    {
     "data": {
      "text/html": [
       "<div>\n",
       "<style scoped>\n",
       "    .dataframe tbody tr th:only-of-type {\n",
       "        vertical-align: middle;\n",
       "    }\n",
       "\n",
       "    .dataframe tbody tr th {\n",
       "        vertical-align: top;\n",
       "    }\n",
       "\n",
       "    .dataframe thead th {\n",
       "        text-align: right;\n",
       "    }\n",
       "</style>\n",
       "<table border=\"1\" class=\"dataframe\">\n",
       "  <thead>\n",
       "    <tr style=\"text-align: right;\">\n",
       "      <th>Ano</th>\n",
       "      <th>Município</th>\n",
       "      <th>2019</th>\n",
       "      <th>2022</th>\n",
       "      <th>Mudança_2022_2019</th>\n",
       "    </tr>\n",
       "  </thead>\n",
       "  <tbody>\n",
       "    <tr>\n",
       "      <th>58</th>\n",
       "      <td>MASSAPÊ</td>\n",
       "      <td>3.0</td>\n",
       "      <td>18.0</td>\n",
       "      <td>15.0</td>\n",
       "    </tr>\n",
       "    <tr>\n",
       "      <th>86</th>\n",
       "      <td>SOBRAL</td>\n",
       "      <td>18.0</td>\n",
       "      <td>28.0</td>\n",
       "      <td>10.0</td>\n",
       "    </tr>\n",
       "  </tbody>\n",
       "</table>\n",
       "</div>"
      ],
      "text/plain": [
       "Ano Município  2019  2022  Mudança_2022_2019\n",
       "58    MASSAPÊ   3.0  18.0               15.0\n",
       "86     SOBRAL  18.0  28.0               10.0"
      ]
     },
     "execution_count": 106,
     "metadata": {},
     "output_type": "execute_result"
    }
   ],
   "source": [
    "# quantidade de escolas premiadas\n",
    "escolas_premiadas_municipios = data.drop_duplicates(subset=['Escola', 'Ano'])\n",
    "escolas_premiadas_municipios = escolas_premiadas_municipios[['Ano', 'Município']].value_counts().reset_index()\n",
    "escolas_premiadas_municipios_pivot = escolas_premiadas_municipios.pivot_table(index='Município', columns='Ano', values=0).fillna(0).reset_index()\n",
    "escolas_premiadas_municipios_pivot['Mudança_2022_2019'] = escolas_premiadas_municipios_pivot[2022].sub(escolas_premiadas_municipios_pivot[2019])\n",
    "escolas_premiadas_municipios_pivot = escolas_premiadas_municipios_pivot.sort_values('Mudança_2022_2019', ascending=False)\n",
    "escolas_premiadas_municipios_pivot.head(2)"
   ]
  },
  {
   "cell_type": "code",
   "execution_count": 107,
   "metadata": {
    "executionInfo": {
     "elapsed": 5,
     "status": "ok",
     "timestamp": 1687833936985,
     "user": {
      "displayName": "Gabriela Custódio",
      "userId": "17879241500396315997"
     },
     "user_tz": 180
    },
    "id": "58hIWEVBa45t"
   },
   "outputs": [],
   "source": [
    "escolas_premiadas_municipios_pivot.to_csv(arquivos_gerados + 'escolas_premiadas_municipios_pivot.csv', index=False)"
   ]
  },
  {
   "cell_type": "code",
   "execution_count": 108,
   "metadata": {
    "colab": {
     "base_uri": "https://localhost:8080/"
    },
    "executionInfo": {
     "elapsed": 4,
     "status": "ok",
     "timestamp": 1687833938043,
     "user": {
      "displayName": "Gabriela Custódio",
      "userId": "17879241500396315997"
     },
     "user_tz": 180
    },
    "id": "CI5G7tYlr-bx",
    "outputId": "ed618104-4ff9-4619-df30-4cfb4ffa3e41"
   },
   "outputs": [
    {
     "data": {
      "text/plain": [
       "76"
      ]
     },
     "execution_count": 108,
     "metadata": {},
     "output_type": "execute_result"
    }
   ],
   "source": [
    "escolas_premiadas_municipios_pivot[escolas_premiadas_municipios_pivot[2022] != 0]['Município'].nunique()"
   ]
  },
  {
   "cell_type": "code",
   "execution_count": 109,
   "metadata": {
    "colab": {
     "base_uri": "https://localhost:8080/"
    },
    "executionInfo": {
     "elapsed": 304,
     "status": "ok",
     "timestamp": 1687833940304,
     "user": {
      "displayName": "Gabriela Custódio",
      "userId": "17879241500396315997"
     },
     "user_tz": 180
    },
    "id": "lcpHUVXgsHeo",
    "outputId": "4ffc6a3b-6c2c-41b9-93d1-f96f88ede798"
   },
   "outputs": [
    {
     "data": {
      "text/plain": [
       "27"
      ]
     },
     "execution_count": 109,
     "metadata": {},
     "output_type": "execute_result"
    }
   ],
   "source": [
    "escolas_premiadas_municipios_2022 = escolas_premiadas_municipios_pivot[escolas_premiadas_municipios_pivot[2022] != 0]\n",
    "escolas_premiadas_municipios_2022[escolas_premiadas_municipios_2022['Mudança_2022_2019'] < 0]['Município'].nunique()"
   ]
  },
  {
   "cell_type": "markdown",
   "metadata": {
    "id": "ktg4cVaLyQbu"
   },
   "source": [
    "### CONFERIR NOMES DAS ESCOLAS"
   ]
  },
  {
   "cell_type": "code",
   "execution_count": 110,
   "metadata": {
    "executionInfo": {
     "elapsed": 2,
     "status": "ok",
     "timestamp": 1687833955616,
     "user": {
      "displayName": "Gabriela Custódio",
      "userId": "17879241500396315997"
     },
     "user_tz": 180
    },
    "id": "DlfUH2inyT6H"
   },
   "outputs": [],
   "source": [
    "premios_por_escola_e_ano = data[['Ano', 'Município', 'Escola']].value_counts().reset_index()"
   ]
  },
  {
   "cell_type": "code",
   "execution_count": 111,
   "metadata": {
    "executionInfo": {
     "elapsed": 4,
     "status": "ok",
     "timestamp": 1687833956013,
     "user": {
      "displayName": "Gabriela Custódio",
      "userId": "17879241500396315997"
     },
     "user_tz": 180
    },
    "id": "W7tPRtlHzP5Y"
   },
   "outputs": [],
   "source": [
    "# para ver a lista de escola completa, colocar 580\n",
    "pd.set_option('display.max_rows', 580)"
   ]
  },
  {
   "cell_type": "code",
   "execution_count": 112,
   "metadata": {
    "executionInfo": {
     "elapsed": 2,
     "status": "ok",
     "timestamp": 1687833956845,
     "user": {
      "displayName": "Gabriela Custódio",
      "userId": "17879241500396315997"
     },
     "user_tz": 180
    },
    "id": "fzmAEnHLyp0a"
   },
   "outputs": [],
   "source": [
    "premios_por_escola_e_ano = premios_por_escola_e_ano.pivot_table(index=['Município', 'Escola'], columns='Ano', values=0, aggfunc='sum').reset_index().fillna(0).sort_values(by=['Município', 'Escola'])"
   ]
  },
  {
   "cell_type": "code",
   "execution_count": 113,
   "metadata": {
    "executionInfo": {
     "elapsed": 9,
     "status": "ok",
     "timestamp": 1687833957902,
     "user": {
      "displayName": "Gabriela Custódio",
      "userId": "17879241500396315997"
     },
     "user_tz": 180
    },
    "id": "2TnPTHvx1xzQ"
   },
   "outputs": [],
   "source": [
    "def multiple_replace(string, rep_dict):\n",
    "    pattern = re.compile(\"|\".join([re.escape(k) for k in sorted(rep_dict,key=len,reverse=True)]), flags=re.DOTALL)\n",
    "    return pattern.sub(lambda x: rep_dict[x.group(0)], string)"
   ]
  },
  {
   "cell_type": "code",
   "execution_count": 114,
   "metadata": {
    "executionInfo": {
     "elapsed": 2,
     "status": "ok",
     "timestamp": 1687833959048,
     "user": {
      "displayName": "Gabriela Custódio",
      "userId": "17879241500396315997"
     },
     "user_tz": 180
    },
    "id": "XUJ6vN1s8kc_"
   },
   "outputs": [],
   "source": [
    "from unicodedata import normalize\n",
    "\n",
    "def remover_acentos(txt):\n",
    "    return normalize('NFKD', txt).encode('ASCII', 'ignore').decode('ASCII')"
   ]
  },
  {
   "cell_type": "code",
   "execution_count": 115,
   "metadata": {
    "executionInfo": {
     "elapsed": 2,
     "status": "ok",
     "timestamp": 1687833959486,
     "user": {
      "displayName": "Gabriela Custódio",
      "userId": "17879241500396315997"
     },
     "user_tz": 180
    },
    "id": "7b9UgaNN17jJ"
   },
   "outputs": [],
   "source": [
    "lista = []\n",
    "for i in premios_por_escola_e_ano['Escola']:\n",
    "    #  aplicar função para remover acentuação\n",
    "    i = remover_acentos(i)\n",
    "    \n",
    "    # aplicar função para fazer diversas substituições\n",
    "    \n",
    "    teste = multiple_replace(i, {'EEFI': '', 'ETI': '', 'EMEB': '', 'EMEIF': '', 'EEIEF': '', 'EEIF': '', 'EEF': '', 'EIEF': '', 'E CRECHE': '',\n",
    "                               'E E F': '', 'CEIF': '', 'ESCOLA DE ENSINO BASICO': '', 'EEB': '', ' - ': '', 'E E I F': '',\n",
    "                               'EMEF': '', 'C E I F': '', 'EM TEMPO INTEGRAL': '', 'ESCOLA': '', 'ESC': '', 'EMEIEF': '', 'CMEF': '',\n",
    "                               'ESC MUL ENS FUND': '', 'COL MUL ENS FUND': '', 'CENTRO EDUCACIONAL EM TEMPO\\nINTEGRAL': '',\n",
    "                               'MUNICIPAL DE ENSINO FUNDAMENTAL': '', 'MA DO CARMO CARNEIRO': 'PROFESSORA MARIA DO CARMO CARNEIRO',\n",
    "                               'DE ENSINO FUNDAMENTAL': '', 'MUNICIPAL DE ENSINO INFANTIL E\\nFUNDAMENTAL': '', 'MUNICIPAL DE ENSINO': ''})\n",
    "    lista.append(teste)"
   ]
  },
  {
   "cell_type": "code",
   "execution_count": 116,
   "metadata": {
    "executionInfo": {
     "elapsed": 1,
     "status": "ok",
     "timestamp": 1687833960617,
     "user": {
      "displayName": "Gabriela Custódio",
      "userId": "17879241500396315997"
     },
     "user_tz": 180
    },
    "id": "MX4kbnsU2aEA"
   },
   "outputs": [],
   "source": [
    "premios_por_escola_e_ano['Escola_Novo'] = pd.DataFrame(lista)"
   ]
  },
  {
   "cell_type": "code",
   "execution_count": 117,
   "metadata": {
    "executionInfo": {
     "elapsed": 4,
     "status": "ok",
     "timestamp": 1687833961599,
     "user": {
      "displayName": "Gabriela Custódio",
      "userId": "17879241500396315997"
     },
     "user_tz": 180
    },
    "id": "5j5b8lqx6YqO"
   },
   "outputs": [],
   "source": [
    "# remover espaços antes e depois da string\n",
    "\n",
    "premios_por_escola_e_ano['Escola_Novo'] = premios_por_escola_e_ano['Escola_Novo'].str.strip()"
   ]
  },
  {
   "cell_type": "code",
   "execution_count": 118,
   "metadata": {
    "colab": {
     "base_uri": "https://localhost:8080/",
     "height": 645
    },
    "executionInfo": {
     "elapsed": 6,
     "status": "ok",
     "timestamp": 1687833962679,
     "user": {
      "displayName": "Gabriela Custódio",
      "userId": "17879241500396315997"
     },
     "user_tz": 180
    },
    "id": "5qnoPcpq_eu5",
    "outputId": "227cbc61-0dde-4e6c-e5ce-6ee7c5537f4c"
   },
   "outputs": [
    {
     "data": {
      "text/html": [
       "<div>\n",
       "<style scoped>\n",
       "    .dataframe tbody tr th:only-of-type {\n",
       "        vertical-align: middle;\n",
       "    }\n",
       "\n",
       "    .dataframe tbody tr th {\n",
       "        vertical-align: top;\n",
       "    }\n",
       "\n",
       "    .dataframe thead th {\n",
       "        text-align: right;\n",
       "    }\n",
       "</style>\n",
       "<table border=\"1\" class=\"dataframe\">\n",
       "  <thead>\n",
       "    <tr style=\"text-align: right;\">\n",
       "      <th>Ano</th>\n",
       "      <th>Município</th>\n",
       "      <th>Escola</th>\n",
       "      <th>2019</th>\n",
       "      <th>2022</th>\n",
       "      <th>Escola_Novo</th>\n",
       "    </tr>\n",
       "  </thead>\n",
       "  <tbody>\n",
       "    <tr>\n",
       "      <th>247</th>\n",
       "      <td>MASSAPÊ</td>\n",
       "      <td>ANTONIO DE PAULA PESSOA FIGUEIREDO EEF</td>\n",
       "      <td>0.0</td>\n",
       "      <td>2.0</td>\n",
       "      <td>ANTONIO DE PAULA PESSOA FIGUEIREDO</td>\n",
       "    </tr>\n",
       "    <tr>\n",
       "      <th>248</th>\n",
       "      <td>MASSAPÊ</td>\n",
       "      <td>AURELIANO LOPES EEF</td>\n",
       "      <td>0.0</td>\n",
       "      <td>2.0</td>\n",
       "      <td>AURELIANO LOPES</td>\n",
       "    </tr>\n",
       "    <tr>\n",
       "      <th>249</th>\n",
       "      <td>MASSAPÊ</td>\n",
       "      <td>BRAS SATIRO NASCIMENTO EEF</td>\n",
       "      <td>0.0</td>\n",
       "      <td>2.0</td>\n",
       "      <td>BRAS SATIRO NASCIMENTO</td>\n",
       "    </tr>\n",
       "    <tr>\n",
       "      <th>250</th>\n",
       "      <td>MASSAPÊ</td>\n",
       "      <td>CENTRO COMUNITARIO FRANCISCO CANUTO EEF</td>\n",
       "      <td>0.0</td>\n",
       "      <td>2.0</td>\n",
       "      <td>CENTRO COMUNITARIO FRANCISCO CANUTO</td>\n",
       "    </tr>\n",
       "    <tr>\n",
       "      <th>252</th>\n",
       "      <td>MASSAPÊ</td>\n",
       "      <td>EEF CENTRO COMUNITARIO SÃO JOÃO BATISTA</td>\n",
       "      <td>1.0</td>\n",
       "      <td>1.0</td>\n",
       "      <td>CENTRO COMUNITARIO SAO JOAO BATISTA</td>\n",
       "    </tr>\n",
       "    <tr>\n",
       "      <th>251</th>\n",
       "      <td>MASSAPÊ</td>\n",
       "      <td>CENTRO COMUNITARIO SAO JOSE EEF</td>\n",
       "      <td>0.0</td>\n",
       "      <td>2.0</td>\n",
       "      <td>CENTRO COMUNITARIO SAO JOSE</td>\n",
       "    </tr>\n",
       "    <tr>\n",
       "      <th>253</th>\n",
       "      <td>MASSAPÊ</td>\n",
       "      <td>EEF CORIOLANO GOMES FROTA</td>\n",
       "      <td>1.0</td>\n",
       "      <td>0.0</td>\n",
       "      <td>CORIOLANO GOMES FROTA</td>\n",
       "    </tr>\n",
       "    <tr>\n",
       "      <th>254</th>\n",
       "      <td>MASSAPÊ</td>\n",
       "      <td>EEF DEPUTADO FRANCISCO ALMEIDA MONTE</td>\n",
       "      <td>1.0</td>\n",
       "      <td>1.0</td>\n",
       "      <td>DEPUTADO FRANCISCO ALMEIDA MONTE</td>\n",
       "    </tr>\n",
       "    <tr>\n",
       "      <th>255</th>\n",
       "      <td>MASSAPÊ</td>\n",
       "      <td>FRANCISCA DIOGO GOMES EEF</td>\n",
       "      <td>0.0</td>\n",
       "      <td>1.0</td>\n",
       "      <td>FRANCISCA DIOGO GOMES</td>\n",
       "    </tr>\n",
       "    <tr>\n",
       "      <th>256</th>\n",
       "      <td>MASSAPÊ</td>\n",
       "      <td>FRANCISCO CARDOSO FERREIRA LIMA EEF</td>\n",
       "      <td>0.0</td>\n",
       "      <td>2.0</td>\n",
       "      <td>FRANCISCO CARDOSO FERREIRA LIMA</td>\n",
       "    </tr>\n",
       "    <tr>\n",
       "      <th>257</th>\n",
       "      <td>MASSAPÊ</td>\n",
       "      <td>GERARDO EMILIANO EEF</td>\n",
       "      <td>0.0</td>\n",
       "      <td>1.0</td>\n",
       "      <td>GERARDO EMILIANO</td>\n",
       "    </tr>\n",
       "    <tr>\n",
       "      <th>258</th>\n",
       "      <td>MASSAPÊ</td>\n",
       "      <td>JOSE ESTEVAO VASCONCELOS EEF</td>\n",
       "      <td>0.0</td>\n",
       "      <td>1.0</td>\n",
       "      <td>JOSE ESTEVAO VASCONCELOS</td>\n",
       "    </tr>\n",
       "    <tr>\n",
       "      <th>260</th>\n",
       "      <td>MASSAPÊ</td>\n",
       "      <td>MA LAURA SOARES FROTA EEF</td>\n",
       "      <td>0.0</td>\n",
       "      <td>1.0</td>\n",
       "      <td>MA LAURA SOARES FROTA</td>\n",
       "    </tr>\n",
       "    <tr>\n",
       "      <th>261</th>\n",
       "      <td>MASSAPÊ</td>\n",
       "      <td>MONSENHOR MANUEL HENRIQUES DE ARAUJO EEF</td>\n",
       "      <td>0.0</td>\n",
       "      <td>1.0</td>\n",
       "      <td>MONSENHOR MANUEL HENRIQUES DE ARAUJO</td>\n",
       "    </tr>\n",
       "    <tr>\n",
       "      <th>262</th>\n",
       "      <td>MASSAPÊ</td>\n",
       "      <td>PADRE LINHARES EEF</td>\n",
       "      <td>0.0</td>\n",
       "      <td>3.0</td>\n",
       "      <td>PADRE LINHARES</td>\n",
       "    </tr>\n",
       "    <tr>\n",
       "      <th>263</th>\n",
       "      <td>MASSAPÊ</td>\n",
       "      <td>PEDRO RUFINO FURTADO EEF</td>\n",
       "      <td>0.0</td>\n",
       "      <td>1.0</td>\n",
       "      <td>PEDRO RUFINO FURTADO</td>\n",
       "    </tr>\n",
       "    <tr>\n",
       "      <th>259</th>\n",
       "      <td>MASSAPÊ</td>\n",
       "      <td>MA DO CARMO CARNEIRO EEF</td>\n",
       "      <td>0.0</td>\n",
       "      <td>1.0</td>\n",
       "      <td>PROFESSORA MARIA DO CARMO CARNEIRO</td>\n",
       "    </tr>\n",
       "    <tr>\n",
       "      <th>264</th>\n",
       "      <td>MASSAPÊ</td>\n",
       "      <td>PROFESSORA MARIA DO CARMO CARNEIRO CMEF</td>\n",
       "      <td>0.0</td>\n",
       "      <td>1.0</td>\n",
       "      <td>PROFESSORA MARIA DO CARMO CARNEIRO</td>\n",
       "    </tr>\n",
       "    <tr>\n",
       "      <th>265</th>\n",
       "      <td>MASSAPÊ</td>\n",
       "      <td>SANTO ANTONIO EEF</td>\n",
       "      <td>0.0</td>\n",
       "      <td>1.0</td>\n",
       "      <td>SANTO ANTONIO</td>\n",
       "    </tr>\n",
       "  </tbody>\n",
       "</table>\n",
       "</div>"
      ],
      "text/plain": [
       "Ano Município                                    Escola  2019  2022  \\\n",
       "247   MASSAPÊ    ANTONIO DE PAULA PESSOA FIGUEIREDO EEF   0.0   2.0   \n",
       "248   MASSAPÊ                       AURELIANO LOPES EEF   0.0   2.0   \n",
       "249   MASSAPÊ                BRAS SATIRO NASCIMENTO EEF   0.0   2.0   \n",
       "250   MASSAPÊ   CENTRO COMUNITARIO FRANCISCO CANUTO EEF   0.0   2.0   \n",
       "252   MASSAPÊ   EEF CENTRO COMUNITARIO SÃO JOÃO BATISTA   1.0   1.0   \n",
       "251   MASSAPÊ           CENTRO COMUNITARIO SAO JOSE EEF   0.0   2.0   \n",
       "253   MASSAPÊ                 EEF CORIOLANO GOMES FROTA   1.0   0.0   \n",
       "254   MASSAPÊ      EEF DEPUTADO FRANCISCO ALMEIDA MONTE   1.0   1.0   \n",
       "255   MASSAPÊ                 FRANCISCA DIOGO GOMES EEF   0.0   1.0   \n",
       "256   MASSAPÊ       FRANCISCO CARDOSO FERREIRA LIMA EEF   0.0   2.0   \n",
       "257   MASSAPÊ                      GERARDO EMILIANO EEF   0.0   1.0   \n",
       "258   MASSAPÊ              JOSE ESTEVAO VASCONCELOS EEF   0.0   1.0   \n",
       "260   MASSAPÊ                 MA LAURA SOARES FROTA EEF   0.0   1.0   \n",
       "261   MASSAPÊ  MONSENHOR MANUEL HENRIQUES DE ARAUJO EEF   0.0   1.0   \n",
       "262   MASSAPÊ                        PADRE LINHARES EEF   0.0   3.0   \n",
       "263   MASSAPÊ                  PEDRO RUFINO FURTADO EEF   0.0   1.0   \n",
       "259   MASSAPÊ                  MA DO CARMO CARNEIRO EEF   0.0   1.0   \n",
       "264   MASSAPÊ   PROFESSORA MARIA DO CARMO CARNEIRO CMEF   0.0   1.0   \n",
       "265   MASSAPÊ                         SANTO ANTONIO EEF   0.0   1.0   \n",
       "\n",
       "Ano                           Escola_Novo  \n",
       "247    ANTONIO DE PAULA PESSOA FIGUEIREDO  \n",
       "248                       AURELIANO LOPES  \n",
       "249                BRAS SATIRO NASCIMENTO  \n",
       "250   CENTRO COMUNITARIO FRANCISCO CANUTO  \n",
       "252   CENTRO COMUNITARIO SAO JOAO BATISTA  \n",
       "251           CENTRO COMUNITARIO SAO JOSE  \n",
       "253                 CORIOLANO GOMES FROTA  \n",
       "254      DEPUTADO FRANCISCO ALMEIDA MONTE  \n",
       "255                 FRANCISCA DIOGO GOMES  \n",
       "256       FRANCISCO CARDOSO FERREIRA LIMA  \n",
       "257                      GERARDO EMILIANO  \n",
       "258              JOSE ESTEVAO VASCONCELOS  \n",
       "260                 MA LAURA SOARES FROTA  \n",
       "261  MONSENHOR MANUEL HENRIQUES DE ARAUJO  \n",
       "262                        PADRE LINHARES  \n",
       "263                  PEDRO RUFINO FURTADO  \n",
       "259    PROFESSORA MARIA DO CARMO CARNEIRO  \n",
       "264    PROFESSORA MARIA DO CARMO CARNEIRO  \n",
       "265                         SANTO ANTONIO  "
      ]
     },
     "execution_count": 118,
     "metadata": {},
     "output_type": "execute_result"
    }
   ],
   "source": [
    "premios_por_escola_e_ano[premios_por_escola_e_ano['Município'] == 'MASSAPÊ'].sort_values('Escola_Novo', ascending=True)"
   ]
  },
  {
   "cell_type": "code",
   "execution_count": 119,
   "metadata": {
    "colab": {
     "base_uri": "https://localhost:8080/",
     "height": 1000
    },
    "executionInfo": {
     "elapsed": 7,
     "status": "ok",
     "timestamp": 1687833964806,
     "user": {
      "displayName": "Gabriela Custódio",
      "userId": "17879241500396315997"
     },
     "user_tz": 180
    },
    "id": "uhfVTfX3_yn0",
    "outputId": "5ff0e6c8-b47d-4452-f548-c9f25b586877",
    "scrolled": false
   },
   "outputs": [
    {
     "data": {
      "text/html": [
       "<div>\n",
       "<style scoped>\n",
       "    .dataframe tbody tr th:only-of-type {\n",
       "        vertical-align: middle;\n",
       "    }\n",
       "\n",
       "    .dataframe tbody tr th {\n",
       "        vertical-align: top;\n",
       "    }\n",
       "\n",
       "    .dataframe thead th {\n",
       "        text-align: right;\n",
       "    }\n",
       "</style>\n",
       "<table border=\"1\" class=\"dataframe\">\n",
       "  <thead>\n",
       "    <tr style=\"text-align: right;\">\n",
       "      <th>Ano</th>\n",
       "      <th>Município</th>\n",
       "      <th>2022</th>\n",
       "    </tr>\n",
       "  </thead>\n",
       "  <tbody>\n",
       "    <tr>\n",
       "      <th>86</th>\n",
       "      <td>SOBRAL</td>\n",
       "      <td>40.0</td>\n",
       "    </tr>\n",
       "    <tr>\n",
       "      <th>58</th>\n",
       "      <td>MASSAPÊ</td>\n",
       "      <td>26.0</td>\n",
       "    </tr>\n",
       "    <tr>\n",
       "      <th>36</th>\n",
       "      <td>GUARACIABA DO NORTE</td>\n",
       "      <td>18.0</td>\n",
       "    </tr>\n",
       "    <tr>\n",
       "      <th>79</th>\n",
       "      <td>QUIXERAMOBIM</td>\n",
       "      <td>15.0</td>\n",
       "    </tr>\n",
       "    <tr>\n",
       "      <th>72</th>\n",
       "      <td>PEDRA BRANCA</td>\n",
       "      <td>14.0</td>\n",
       "    </tr>\n",
       "    <tr>\n",
       "      <th>88</th>\n",
       "      <td>SÃO BENEDITO</td>\n",
       "      <td>14.0</td>\n",
       "    </tr>\n",
       "    <tr>\n",
       "      <th>68</th>\n",
       "      <td>NOVO ORIENTE</td>\n",
       "      <td>11.0</td>\n",
       "    </tr>\n",
       "    <tr>\n",
       "      <th>78</th>\n",
       "      <td>QUITERIANÓPOLIS</td>\n",
       "      <td>11.0</td>\n",
       "    </tr>\n",
       "    <tr>\n",
       "      <th>80</th>\n",
       "      <td>RERIUTABA</td>\n",
       "      <td>9.0</td>\n",
       "    </tr>\n",
       "    <tr>\n",
       "      <th>24</th>\n",
       "      <td>CRUZ</td>\n",
       "      <td>9.0</td>\n",
       "    </tr>\n",
       "    <tr>\n",
       "      <th>65</th>\n",
       "      <td>MUCAMBO</td>\n",
       "      <td>8.0</td>\n",
       "    </tr>\n",
       "    <tr>\n",
       "      <th>75</th>\n",
       "      <td>PIRES FERREIRA</td>\n",
       "      <td>7.0</td>\n",
       "    </tr>\n",
       "    <tr>\n",
       "      <th>5</th>\n",
       "      <td>ARARENDA</td>\n",
       "      <td>7.0</td>\n",
       "    </tr>\n",
       "    <tr>\n",
       "      <th>95</th>\n",
       "      <td>VARJOTA</td>\n",
       "      <td>7.0</td>\n",
       "    </tr>\n",
       "    <tr>\n",
       "      <th>53</th>\n",
       "      <td>JIJOCA DE JERICOACOARA</td>\n",
       "      <td>6.0</td>\n",
       "    </tr>\n",
       "    <tr>\n",
       "      <th>32</th>\n",
       "      <td>FRECHEIRINHA</td>\n",
       "      <td>6.0</td>\n",
       "    </tr>\n",
       "    <tr>\n",
       "      <th>23</th>\n",
       "      <td>CROATA</td>\n",
       "      <td>6.0</td>\n",
       "    </tr>\n",
       "    <tr>\n",
       "      <th>20</th>\n",
       "      <td>COREAU</td>\n",
       "      <td>6.0</td>\n",
       "    </tr>\n",
       "    <tr>\n",
       "      <th>62</th>\n",
       "      <td>MONSENHOR TABOSA</td>\n",
       "      <td>5.0</td>\n",
       "    </tr>\n",
       "    <tr>\n",
       "      <th>45</th>\n",
       "      <td>IPÚEIRAS</td>\n",
       "      <td>5.0</td>\n",
       "    </tr>\n",
       "    <tr>\n",
       "      <th>83</th>\n",
       "      <td>SANTA QUITÉRIA</td>\n",
       "      <td>5.0</td>\n",
       "    </tr>\n",
       "    <tr>\n",
       "      <th>66</th>\n",
       "      <td>NOVA OLINDA</td>\n",
       "      <td>5.0</td>\n",
       "    </tr>\n",
       "    <tr>\n",
       "      <th>93</th>\n",
       "      <td>UBAJARA</td>\n",
       "      <td>5.0</td>\n",
       "    </tr>\n",
       "    <tr>\n",
       "      <th>63</th>\n",
       "      <td>MORAUJO</td>\n",
       "      <td>5.0</td>\n",
       "    </tr>\n",
       "    <tr>\n",
       "      <th>15</th>\n",
       "      <td>CARIRE</td>\n",
       "      <td>5.0</td>\n",
       "    </tr>\n",
       "    <tr>\n",
       "      <th>59</th>\n",
       "      <td>MERUOCA</td>\n",
       "      <td>5.0</td>\n",
       "    </tr>\n",
       "    <tr>\n",
       "      <th>17</th>\n",
       "      <td>CEDRO</td>\n",
       "      <td>5.0</td>\n",
       "    </tr>\n",
       "    <tr>\n",
       "      <th>60</th>\n",
       "      <td>MILHÃ</td>\n",
       "      <td>4.0</td>\n",
       "    </tr>\n",
       "    <tr>\n",
       "      <th>85</th>\n",
       "      <td>SENADOR POMPEU</td>\n",
       "      <td>4.0</td>\n",
       "    </tr>\n",
       "    <tr>\n",
       "      <th>87</th>\n",
       "      <td>SOLONÓPOLE</td>\n",
       "      <td>4.0</td>\n",
       "    </tr>\n",
       "    <tr>\n",
       "      <th>50</th>\n",
       "      <td>ITATIRA</td>\n",
       "      <td>4.0</td>\n",
       "    </tr>\n",
       "    <tr>\n",
       "      <th>90</th>\n",
       "      <td>TAMBORIL</td>\n",
       "      <td>4.0</td>\n",
       "    </tr>\n",
       "    <tr>\n",
       "      <th>40</th>\n",
       "      <td>IBICUITINGA</td>\n",
       "      <td>4.0</td>\n",
       "    </tr>\n",
       "    <tr>\n",
       "      <th>25</th>\n",
       "      <td>DEPUTADO IRAPUAN PINHEIRO</td>\n",
       "      <td>4.0</td>\n",
       "    </tr>\n",
       "    <tr>\n",
       "      <th>21</th>\n",
       "      <td>CRATEUS</td>\n",
       "      <td>4.0</td>\n",
       "    </tr>\n",
       "    <tr>\n",
       "      <th>11</th>\n",
       "      <td>CAMOCIM</td>\n",
       "      <td>4.0</td>\n",
       "    </tr>\n",
       "    <tr>\n",
       "      <th>33</th>\n",
       "      <td>GRANJA</td>\n",
       "      <td>3.0</td>\n",
       "    </tr>\n",
       "    <tr>\n",
       "      <th>48</th>\n",
       "      <td>ITAPIÚNA</td>\n",
       "      <td>3.0</td>\n",
       "    </tr>\n",
       "    <tr>\n",
       "      <th>34</th>\n",
       "      <td>GRAÇA</td>\n",
       "      <td>3.0</td>\n",
       "    </tr>\n",
       "    <tr>\n",
       "      <th>61</th>\n",
       "      <td>MOMBAÇA</td>\n",
       "      <td>3.0</td>\n",
       "    </tr>\n",
       "    <tr>\n",
       "      <th>42</th>\n",
       "      <td>INDEPENDÊNCIA</td>\n",
       "      <td>3.0</td>\n",
       "    </tr>\n",
       "    <tr>\n",
       "      <th>22</th>\n",
       "      <td>CRATO</td>\n",
       "      <td>3.0</td>\n",
       "    </tr>\n",
       "    <tr>\n",
       "      <th>64</th>\n",
       "      <td>MORRINHOS</td>\n",
       "      <td>3.0</td>\n",
       "    </tr>\n",
       "    <tr>\n",
       "      <th>84</th>\n",
       "      <td>SANTANA DO ACARAU</td>\n",
       "      <td>3.0</td>\n",
       "    </tr>\n",
       "    <tr>\n",
       "      <th>96</th>\n",
       "      <td>VIÇOSA DO CEARÁ</td>\n",
       "      <td>3.0</td>\n",
       "    </tr>\n",
       "    <tr>\n",
       "      <th>73</th>\n",
       "      <td>PENTECOSTE</td>\n",
       "      <td>3.0</td>\n",
       "    </tr>\n",
       "    <tr>\n",
       "      <th>16</th>\n",
       "      <td>CATUNDA</td>\n",
       "      <td>2.0</td>\n",
       "    </tr>\n",
       "    <tr>\n",
       "      <th>55</th>\n",
       "      <td>MADALENA</td>\n",
       "      <td>2.0</td>\n",
       "    </tr>\n",
       "    <tr>\n",
       "      <th>2</th>\n",
       "      <td>ALTANEIRA</td>\n",
       "      <td>2.0</td>\n",
       "    </tr>\n",
       "    <tr>\n",
       "      <th>12</th>\n",
       "      <td>CAMPOS SALES</td>\n",
       "      <td>2.0</td>\n",
       "    </tr>\n",
       "    <tr>\n",
       "      <th>0</th>\n",
       "      <td>ACARAU</td>\n",
       "      <td>2.0</td>\n",
       "    </tr>\n",
       "    <tr>\n",
       "      <th>47</th>\n",
       "      <td>IRAUÇUBA</td>\n",
       "      <td>2.0</td>\n",
       "    </tr>\n",
       "    <tr>\n",
       "      <th>35</th>\n",
       "      <td>GROAÍRAS</td>\n",
       "      <td>2.0</td>\n",
       "    </tr>\n",
       "    <tr>\n",
       "      <th>27</th>\n",
       "      <td>EUSEBIO</td>\n",
       "      <td>2.0</td>\n",
       "    </tr>\n",
       "    <tr>\n",
       "      <th>43</th>\n",
       "      <td>IPAPORANGA</td>\n",
       "      <td>2.0</td>\n",
       "    </tr>\n",
       "    <tr>\n",
       "      <th>29</th>\n",
       "      <td>FORQUILHA</td>\n",
       "      <td>2.0</td>\n",
       "    </tr>\n",
       "    <tr>\n",
       "      <th>37</th>\n",
       "      <td>HIDROLÂNDIA</td>\n",
       "      <td>2.0</td>\n",
       "    </tr>\n",
       "    <tr>\n",
       "      <th>1</th>\n",
       "      <td>ALCANTARAS</td>\n",
       "      <td>2.0</td>\n",
       "    </tr>\n",
       "    <tr>\n",
       "      <th>38</th>\n",
       "      <td>HORIZONTE</td>\n",
       "      <td>2.0</td>\n",
       "    </tr>\n",
       "    <tr>\n",
       "      <th>26</th>\n",
       "      <td>ERERE</td>\n",
       "      <td>1.0</td>\n",
       "    </tr>\n",
       "    <tr>\n",
       "      <th>7</th>\n",
       "      <td>BAIXIO</td>\n",
       "      <td>1.0</td>\n",
       "    </tr>\n",
       "    <tr>\n",
       "      <th>77</th>\n",
       "      <td>POTIRETAMA</td>\n",
       "      <td>1.0</td>\n",
       "    </tr>\n",
       "    <tr>\n",
       "      <th>76</th>\n",
       "      <td>PORTEIRAS</td>\n",
       "      <td>1.0</td>\n",
       "    </tr>\n",
       "    <tr>\n",
       "      <th>3</th>\n",
       "      <td>ALTO SANTO</td>\n",
       "      <td>1.0</td>\n",
       "    </tr>\n",
       "    <tr>\n",
       "      <th>31</th>\n",
       "      <td>FORTIM</td>\n",
       "      <td>1.0</td>\n",
       "    </tr>\n",
       "    <tr>\n",
       "      <th>4</th>\n",
       "      <td>ANTONINA DO NORTE</td>\n",
       "      <td>1.0</td>\n",
       "    </tr>\n",
       "    <tr>\n",
       "      <th>82</th>\n",
       "      <td>SALITRE</td>\n",
       "      <td>1.0</td>\n",
       "    </tr>\n",
       "    <tr>\n",
       "      <th>10</th>\n",
       "      <td>BREJO SANTO</td>\n",
       "      <td>1.0</td>\n",
       "    </tr>\n",
       "    <tr>\n",
       "      <th>67</th>\n",
       "      <td>NOVA RUSSAS</td>\n",
       "      <td>1.0</td>\n",
       "    </tr>\n",
       "    <tr>\n",
       "      <th>94</th>\n",
       "      <td>URUOCA</td>\n",
       "      <td>1.0</td>\n",
       "    </tr>\n",
       "    <tr>\n",
       "      <th>13</th>\n",
       "      <td>CANINDE</td>\n",
       "      <td>1.0</td>\n",
       "    </tr>\n",
       "    <tr>\n",
       "      <th>14</th>\n",
       "      <td>CARIDADE</td>\n",
       "      <td>1.0</td>\n",
       "    </tr>\n",
       "    <tr>\n",
       "      <th>44</th>\n",
       "      <td>IPÚ</td>\n",
       "      <td>1.0</td>\n",
       "    </tr>\n",
       "    <tr>\n",
       "      <th>18</th>\n",
       "      <td>CHORO</td>\n",
       "      <td>1.0</td>\n",
       "    </tr>\n",
       "    <tr>\n",
       "      <th>54</th>\n",
       "      <td>LIMOEIRO DO NORTE</td>\n",
       "      <td>1.0</td>\n",
       "    </tr>\n",
       "    <tr>\n",
       "      <th>56</th>\n",
       "      <td>MARCO</td>\n",
       "      <td>1.0</td>\n",
       "    </tr>\n",
       "    <tr>\n",
       "      <th>91</th>\n",
       "      <td>TARRAFAS</td>\n",
       "      <td>0.0</td>\n",
       "    </tr>\n",
       "    <tr>\n",
       "      <th>89</th>\n",
       "      <td>SÃO GONÇALO DO AMARANTE</td>\n",
       "      <td>0.0</td>\n",
       "    </tr>\n",
       "    <tr>\n",
       "      <th>81</th>\n",
       "      <td>RUSSAS</td>\n",
       "      <td>0.0</td>\n",
       "    </tr>\n",
       "    <tr>\n",
       "      <th>92</th>\n",
       "      <td>TRAIRI</td>\n",
       "      <td>0.0</td>\n",
       "    </tr>\n",
       "    <tr>\n",
       "      <th>49</th>\n",
       "      <td>ITAREMA</td>\n",
       "      <td>0.0</td>\n",
       "    </tr>\n",
       "    <tr>\n",
       "      <th>74</th>\n",
       "      <td>PIQUET CARNEIRO</td>\n",
       "      <td>0.0</td>\n",
       "    </tr>\n",
       "    <tr>\n",
       "      <th>39</th>\n",
       "      <td>IBIAPINA</td>\n",
       "      <td>0.0</td>\n",
       "    </tr>\n",
       "    <tr>\n",
       "      <th>6</th>\n",
       "      <td>ASSARÉ</td>\n",
       "      <td>0.0</td>\n",
       "    </tr>\n",
       "    <tr>\n",
       "      <th>8</th>\n",
       "      <td>BARBALHA</td>\n",
       "      <td>0.0</td>\n",
       "    </tr>\n",
       "    <tr>\n",
       "      <th>9</th>\n",
       "      <td>BARROQUINHA</td>\n",
       "      <td>0.0</td>\n",
       "    </tr>\n",
       "    <tr>\n",
       "      <th>19</th>\n",
       "      <td>CHOROZINHO</td>\n",
       "      <td>0.0</td>\n",
       "    </tr>\n",
       "    <tr>\n",
       "      <th>28</th>\n",
       "      <td>FARIAS BRITO</td>\n",
       "      <td>0.0</td>\n",
       "    </tr>\n",
       "    <tr>\n",
       "      <th>30</th>\n",
       "      <td>FORTALEZA</td>\n",
       "      <td>0.0</td>\n",
       "    </tr>\n",
       "    <tr>\n",
       "      <th>41</th>\n",
       "      <td>ICAPUÍ</td>\n",
       "      <td>0.0</td>\n",
       "    </tr>\n",
       "    <tr>\n",
       "      <th>71</th>\n",
       "      <td>PARACURU</td>\n",
       "      <td>0.0</td>\n",
       "    </tr>\n",
       "    <tr>\n",
       "      <th>46</th>\n",
       "      <td>IRACEMA</td>\n",
       "      <td>0.0</td>\n",
       "    </tr>\n",
       "    <tr>\n",
       "      <th>51</th>\n",
       "      <td>JAGUARETAMA</td>\n",
       "      <td>0.0</td>\n",
       "    </tr>\n",
       "    <tr>\n",
       "      <th>52</th>\n",
       "      <td>JAGUARIBE</td>\n",
       "      <td>0.0</td>\n",
       "    </tr>\n",
       "    <tr>\n",
       "      <th>57</th>\n",
       "      <td>MARTINÓPOLE</td>\n",
       "      <td>0.0</td>\n",
       "    </tr>\n",
       "    <tr>\n",
       "      <th>69</th>\n",
       "      <td>PACAJUS</td>\n",
       "      <td>0.0</td>\n",
       "    </tr>\n",
       "    <tr>\n",
       "      <th>70</th>\n",
       "      <td>PACUJÁ</td>\n",
       "      <td>0.0</td>\n",
       "    </tr>\n",
       "    <tr>\n",
       "      <th>97</th>\n",
       "      <td>VÁRZEA ALEGRE</td>\n",
       "      <td>0.0</td>\n",
       "    </tr>\n",
       "  </tbody>\n",
       "</table>\n",
       "</div>"
      ],
      "text/plain": [
       "Ano                  Município  2022\n",
       "86                      SOBRAL  40.0\n",
       "58                     MASSAPÊ  26.0\n",
       "36         GUARACIABA DO NORTE  18.0\n",
       "79                QUIXERAMOBIM  15.0\n",
       "72                PEDRA BRANCA  14.0\n",
       "88                SÃO BENEDITO  14.0\n",
       "68                NOVO ORIENTE  11.0\n",
       "78             QUITERIANÓPOLIS  11.0\n",
       "80                   RERIUTABA   9.0\n",
       "24                        CRUZ   9.0\n",
       "65                     MUCAMBO   8.0\n",
       "75              PIRES FERREIRA   7.0\n",
       "5                     ARARENDA   7.0\n",
       "95                     VARJOTA   7.0\n",
       "53      JIJOCA DE JERICOACOARA   6.0\n",
       "32                FRECHEIRINHA   6.0\n",
       "23                      CROATA   6.0\n",
       "20                      COREAU   6.0\n",
       "62            MONSENHOR TABOSA   5.0\n",
       "45                    IPÚEIRAS   5.0\n",
       "83              SANTA QUITÉRIA   5.0\n",
       "66                 NOVA OLINDA   5.0\n",
       "93                     UBAJARA   5.0\n",
       "63                     MORAUJO   5.0\n",
       "15                      CARIRE   5.0\n",
       "59                     MERUOCA   5.0\n",
       "17                       CEDRO   5.0\n",
       "60                       MILHÃ   4.0\n",
       "85              SENADOR POMPEU   4.0\n",
       "87                  SOLONÓPOLE   4.0\n",
       "50                     ITATIRA   4.0\n",
       "90                    TAMBORIL   4.0\n",
       "40                 IBICUITINGA   4.0\n",
       "25   DEPUTADO IRAPUAN PINHEIRO   4.0\n",
       "21                     CRATEUS   4.0\n",
       "11                     CAMOCIM   4.0\n",
       "33                      GRANJA   3.0\n",
       "48                    ITAPIÚNA   3.0\n",
       "34                       GRAÇA   3.0\n",
       "61                     MOMBAÇA   3.0\n",
       "42               INDEPENDÊNCIA   3.0\n",
       "22                       CRATO   3.0\n",
       "64                   MORRINHOS   3.0\n",
       "84           SANTANA DO ACARAU   3.0\n",
       "96             VIÇOSA DO CEARÁ   3.0\n",
       "73                  PENTECOSTE   3.0\n",
       "16                     CATUNDA   2.0\n",
       "55                    MADALENA   2.0\n",
       "2                    ALTANEIRA   2.0\n",
       "12                CAMPOS SALES   2.0\n",
       "0                       ACARAU   2.0\n",
       "47                    IRAUÇUBA   2.0\n",
       "35                    GROAÍRAS   2.0\n",
       "27                     EUSEBIO   2.0\n",
       "43                  IPAPORANGA   2.0\n",
       "29                   FORQUILHA   2.0\n",
       "37                 HIDROLÂNDIA   2.0\n",
       "1                   ALCANTARAS   2.0\n",
       "38                   HORIZONTE   2.0\n",
       "26                       ERERE   1.0\n",
       "7                       BAIXIO   1.0\n",
       "77                  POTIRETAMA   1.0\n",
       "76                   PORTEIRAS   1.0\n",
       "3                   ALTO SANTO   1.0\n",
       "31                      FORTIM   1.0\n",
       "4            ANTONINA DO NORTE   1.0\n",
       "82                     SALITRE   1.0\n",
       "10                 BREJO SANTO   1.0\n",
       "67                 NOVA RUSSAS   1.0\n",
       "94                      URUOCA   1.0\n",
       "13                     CANINDE   1.0\n",
       "14                    CARIDADE   1.0\n",
       "44                         IPÚ   1.0\n",
       "18                       CHORO   1.0\n",
       "54           LIMOEIRO DO NORTE   1.0\n",
       "56                       MARCO   1.0\n",
       "91                    TARRAFAS   0.0\n",
       "89     SÃO GONÇALO DO AMARANTE   0.0\n",
       "81                      RUSSAS   0.0\n",
       "92                      TRAIRI   0.0\n",
       "49                     ITAREMA   0.0\n",
       "74             PIQUET CARNEIRO   0.0\n",
       "39                    IBIAPINA   0.0\n",
       "6                       ASSARÉ   0.0\n",
       "8                     BARBALHA   0.0\n",
       "9                  BARROQUINHA   0.0\n",
       "19                  CHOROZINHO   0.0\n",
       "28                FARIAS BRITO   0.0\n",
       "30                   FORTALEZA   0.0\n",
       "41                      ICAPUÍ   0.0\n",
       "71                    PARACURU   0.0\n",
       "46                     IRACEMA   0.0\n",
       "51                 JAGUARETAMA   0.0\n",
       "52                   JAGUARIBE   0.0\n",
       "57                 MARTINÓPOLE   0.0\n",
       "69                     PACAJUS   0.0\n",
       "70                      PACUJÁ   0.0\n",
       "97               VÁRZEA ALEGRE   0.0"
      ]
     },
     "execution_count": 119,
     "metadata": {},
     "output_type": "execute_result"
    }
   ],
   "source": [
    "premios_por_escola_e_ano[[2022, 'Município', 'Escola_Novo']].groupby(['Município']).sum().reset_index().sort_values(by=[2022], ascending=False)"
   ]
  },
  {
   "cell_type": "markdown",
   "metadata": {
    "id": "8rzc1O1jJpWw"
   },
   "source": [
    "## Massapê"
   ]
  },
  {
   "cell_type": "code",
   "execution_count": 120,
   "metadata": {
    "executionInfo": {
     "elapsed": 328,
     "status": "ok",
     "timestamp": 1687833970750,
     "user": {
      "displayName": "Gabriela Custódio",
      "userId": "17879241500396315997"
     },
     "user_tz": 180
    },
    "id": "yPWWgEUsFBZB"
   },
   "outputs": [],
   "source": [
    "massape = data[data['Município'] == 'MASSAPÊ']"
   ]
  },
  {
   "cell_type": "code",
   "execution_count": 121,
   "metadata": {
    "colab": {
     "base_uri": "https://localhost:8080/"
    },
    "executionInfo": {
     "elapsed": 2,
     "status": "ok",
     "timestamp": 1687833971078,
     "user": {
      "displayName": "Gabriela Custódio",
      "userId": "17879241500396315997"
     },
     "user_tz": 180
    },
    "id": "QHauYErYivAy",
    "outputId": "7993de7b-008d-4d64-fea2-6dbdd59bd1d3"
   },
   "outputs": [
    {
     "name": "stderr",
     "output_type": "stream",
     "text": [
      "C:\\Users\\55859\\AppData\\Local\\Temp/ipykernel_764/316693787.py:1: SettingWithCopyWarning: \n",
      "A value is trying to be set on a copy of a slice from a DataFrame.\n",
      "Try using .loc[row_indexer,col_indexer] = value instead\n",
      "\n",
      "See the caveats in the documentation: https://pandas.pydata.org/pandas-docs/stable/user_guide/indexing.html#returning-a-view-versus-a-copy\n",
      "  massape['Escola_Title'] = massape['Escola'].str.title()\n"
     ]
    }
   ],
   "source": [
    "massape['Escola_Title'] = massape['Escola'].str.title()"
   ]
  },
  {
   "cell_type": "code",
   "execution_count": 122,
   "metadata": {
    "colab": {
     "base_uri": "https://localhost:8080/"
    },
    "executionInfo": {
     "elapsed": 3,
     "status": "ok",
     "timestamp": 1687833972260,
     "user": {
      "displayName": "Gabriela Custódio",
      "userId": "17879241500396315997"
     },
     "user_tz": 180
    },
    "id": "WAK1Qp2DFHje",
    "outputId": "59e0fb56-3fc9-4b01-8a86-6b0b1d266962"
   },
   "outputs": [
    {
     "data": {
      "text/plain": [
       "2022    26\n",
       "2019     3\n",
       "Name: Ano, dtype: int64"
      ]
     },
     "execution_count": 122,
     "metadata": {},
     "output_type": "execute_result"
    }
   ],
   "source": [
    "# quantidade de prêmios por ano\n",
    "massape['Ano'].value_counts()"
   ]
  },
  {
   "cell_type": "code",
   "execution_count": 123,
   "metadata": {
    "colab": {
     "base_uri": "https://localhost:8080/",
     "height": 81
    },
    "executionInfo": {
     "elapsed": 5,
     "status": "ok",
     "timestamp": 1687833973457,
     "user": {
      "displayName": "Gabriela Custódio",
      "userId": "17879241500396315997"
     },
     "user_tz": 180
    },
    "id": "RC-Fp--Lm4-o",
    "outputId": "ea7bb901-4bdb-49ed-d0e2-2179d65f7e86"
   },
   "outputs": [
    {
     "data": {
      "text/html": [
       "<div>\n",
       "<style scoped>\n",
       "    .dataframe tbody tr th:only-of-type {\n",
       "        vertical-align: middle;\n",
       "    }\n",
       "\n",
       "    .dataframe tbody tr th {\n",
       "        vertical-align: top;\n",
       "    }\n",
       "\n",
       "    .dataframe thead th {\n",
       "        text-align: right;\n",
       "    }\n",
       "</style>\n",
       "<table border=\"1\" class=\"dataframe\">\n",
       "  <thead>\n",
       "    <tr style=\"text-align: right;\">\n",
       "      <th>Ano</th>\n",
       "      <th>Município</th>\n",
       "      <th>2019</th>\n",
       "      <th>2022</th>\n",
       "      <th>Mudança_2022_2019</th>\n",
       "    </tr>\n",
       "  </thead>\n",
       "  <tbody>\n",
       "    <tr>\n",
       "      <th>0</th>\n",
       "      <td>MASSAPÊ</td>\n",
       "      <td>3</td>\n",
       "      <td>26</td>\n",
       "      <td>23</td>\n",
       "    </tr>\n",
       "  </tbody>\n",
       "</table>\n",
       "</div>"
      ],
      "text/plain": [
       "Ano Município  2019  2022  Mudança_2022_2019\n",
       "0     MASSAPÊ     3    26                 23"
      ]
     },
     "execution_count": 123,
     "metadata": {},
     "output_type": "execute_result"
    }
   ],
   "source": [
    "# quantidade de prêmios por ano\n",
    "premios_municipios_ano_massape = massape[['Ano', 'Município']].value_counts().reset_index()\n",
    "premios_municipios_ano_massape_pivot = premios_municipios_ano_massape.pivot_table(index='Município', columns='Ano', values=0).fillna(0).reset_index()\n",
    "premios_municipios_ano_massape_pivot['Mudança_2022_2019'] = premios_municipios_ano_massape_pivot[2022].sub(premios_municipios_ano_massape_pivot[2019], axis=0)\n",
    "premios_municipios_ano_massape_pivot = premios_municipios_ano_massape_pivot.sort_values('Mudança_2022_2019', ascending=False)\n",
    "premios_municipios_ano_massape_pivot"
   ]
  },
  {
   "cell_type": "code",
   "execution_count": 124,
   "metadata": {
    "executionInfo": {
     "elapsed": 3,
     "status": "ok",
     "timestamp": 1687833974275,
     "user": {
      "displayName": "Gabriela Custódio",
      "userId": "17879241500396315997"
     },
     "user_tz": 180
    },
    "id": "rQUpb3XvK6Uq"
   },
   "outputs": [],
   "source": [
    "# premiações por ano e série\n",
    "\n",
    "premios_massape = massape[['Município', 'Escola', 'Série',\t'Ano']][['Ano', 'Série']].value_counts().reset_index().rename(columns={0: 'Quantidade de prêmios'})"
   ]
  },
  {
   "cell_type": "code",
   "execution_count": 125,
   "metadata": {
    "executionInfo": {
     "elapsed": 5,
     "status": "ok",
     "timestamp": 1687833975846,
     "user": {
      "displayName": "Gabriela Custódio",
      "userId": "17879241500396315997"
     },
     "user_tz": 180
    },
    "id": "1Ar2f8m6LiO4"
   },
   "outputs": [],
   "source": [
    "premios_massape.to_csv(arquivos_gerados + 'premios_massape_serie_ano.csv', index=False)"
   ]
  },
  {
   "cell_type": "code",
   "execution_count": 126,
   "metadata": {
    "executionInfo": {
     "elapsed": 3,
     "status": "ok",
     "timestamp": 1687833977457,
     "user": {
      "displayName": "Gabriela Custódio",
      "userId": "17879241500396315997"
     },
     "user_tz": 180
    },
    "id": "vTXLg_gNXxoX"
   },
   "outputs": [],
   "source": [
    "premios_massape_pivot = premios_massape.pivot_table(index='Série', columns='Ano').reset_index().fillna(0)"
   ]
  },
  {
   "cell_type": "code",
   "execution_count": 127,
   "metadata": {
    "executionInfo": {
     "elapsed": 8,
     "status": "ok",
     "timestamp": 1687833978273,
     "user": {
      "displayName": "Gabriela Custódio",
      "userId": "17879241500396315997"
     },
     "user_tz": 180
    },
    "id": "2oNdxVViYPxg"
   },
   "outputs": [],
   "source": [
    "premios_massape_pivot.to_csv(arquivos_gerados + 'premios_massape_serie_ano_pivot.csv', index=False)"
   ]
  },
  {
   "cell_type": "code",
   "execution_count": 128,
   "metadata": {
    "executionInfo": {
     "elapsed": 8,
     "status": "ok",
     "timestamp": 1687833979472,
     "user": {
      "displayName": "Gabriela Custódio",
      "userId": "17879241500396315997"
     },
     "user_tz": 180
    },
    "id": "sS2EPzLPFTFi"
   },
   "outputs": [],
   "source": [
    "massape_escolas = massape[['Escola', 'Ano']].drop_duplicates()"
   ]
  },
  {
   "cell_type": "code",
   "execution_count": 129,
   "metadata": {
    "colab": {
     "base_uri": "https://localhost:8080/"
    },
    "executionInfo": {
     "elapsed": 4,
     "status": "ok",
     "timestamp": 1687833979828,
     "user": {
      "displayName": "Gabriela Custódio",
      "userId": "17879241500396315997"
     },
     "user_tz": 180
    },
    "id": "PPgXJLueFn5u",
    "outputId": "b6462493-1d39-4903-d5cd-3062473e81a4"
   },
   "outputs": [
    {
     "data": {
      "text/plain": [
       "2022    18\n",
       "2019     3\n",
       "Name: Ano, dtype: int64"
      ]
     },
     "execution_count": 129,
     "metadata": {},
     "output_type": "execute_result"
    }
   ],
   "source": [
    "# quantidade de escolas premiadas por ano\n",
    "massape_escolas['Ano'].value_counts()"
   ]
  },
  {
   "cell_type": "code",
   "execution_count": 130,
   "metadata": {
    "colab": {
     "base_uri": "https://localhost:8080/",
     "height": 81
    },
    "executionInfo": {
     "elapsed": 7,
     "status": "ok",
     "timestamp": 1687833980563,
     "user": {
      "displayName": "Gabriela Custódio",
      "userId": "17879241500396315997"
     },
     "user_tz": 180
    },
    "id": "ai2DdQ_-E9oA",
    "outputId": "db6d2ea5-18e2-46c0-ab78-0b2e84558464"
   },
   "outputs": [
    {
     "data": {
      "text/html": [
       "<div>\n",
       "<style scoped>\n",
       "    .dataframe tbody tr th:only-of-type {\n",
       "        vertical-align: middle;\n",
       "    }\n",
       "\n",
       "    .dataframe tbody tr th {\n",
       "        vertical-align: top;\n",
       "    }\n",
       "\n",
       "    .dataframe thead th {\n",
       "        text-align: right;\n",
       "    }\n",
       "</style>\n",
       "<table border=\"1\" class=\"dataframe\">\n",
       "  <thead>\n",
       "    <tr style=\"text-align: right;\">\n",
       "      <th>Ano</th>\n",
       "      <th>Município</th>\n",
       "      <th>2019</th>\n",
       "      <th>2022</th>\n",
       "      <th>Mudança_2022_2019</th>\n",
       "    </tr>\n",
       "  </thead>\n",
       "  <tbody>\n",
       "    <tr>\n",
       "      <th>0</th>\n",
       "      <td>MASSAPÊ</td>\n",
       "      <td>3</td>\n",
       "      <td>18</td>\n",
       "      <td>15</td>\n",
       "    </tr>\n",
       "  </tbody>\n",
       "</table>\n",
       "</div>"
      ],
      "text/plain": [
       "Ano Município  2019  2022  Mudança_2022_2019\n",
       "0     MASSAPÊ     3    18                 15"
      ]
     },
     "execution_count": 130,
     "metadata": {},
     "output_type": "execute_result"
    }
   ],
   "source": [
    "# quantidade de escolas premiadas\n",
    "escolas_premiadas_municipios_massape = massape.drop_duplicates(subset=['Escola', 'Ano'])\n",
    "escolas_premiadas_municipios_massape = escolas_premiadas_municipios_massape[['Ano', 'Município']].value_counts().reset_index()\n",
    "escolas_premiadas_municipios_massape_pivot = escolas_premiadas_municipios_massape.pivot_table(index='Município', columns='Ano', values=0).fillna(0).reset_index()\n",
    "escolas_premiadas_municipios_massape_pivot['Mudança_2022_2019'] = escolas_premiadas_municipios_massape_pivot[2022].sub(escolas_premiadas_municipios_massape_pivot[2019])\n",
    "escolas_premiadas_municipios_massape_pivot = escolas_premiadas_municipios_massape_pivot.sort_values('Mudança_2022_2019', ascending=False)\n",
    "escolas_premiadas_municipios_massape_pivot"
   ]
  },
  {
   "cell_type": "code",
   "execution_count": 131,
   "metadata": {
    "executionInfo": {
     "elapsed": 5,
     "status": "ok",
     "timestamp": 1687833981518,
     "user": {
      "displayName": "Gabriela Custódio",
      "userId": "17879241500396315997"
     },
     "user_tz": 180
    },
    "id": "1pMgLj7dLvua"
   },
   "outputs": [],
   "source": [
    "# premiações por escola e ano\n",
    "\n",
    "premios_massape_escola_ano = massape_escolas[['Ano']].value_counts().reset_index().rename(columns={0: 'Quantidade de escolas premiadas'})"
   ]
  },
  {
   "cell_type": "code",
   "execution_count": 132,
   "metadata": {
    "executionInfo": {
     "elapsed": 2,
     "status": "ok",
     "timestamp": 1687833982689,
     "user": {
      "displayName": "Gabriela Custódio",
      "userId": "17879241500396315997"
     },
     "user_tz": 180
    },
    "id": "KsBKuFZuMNIB"
   },
   "outputs": [],
   "source": [
    "premios_massape_escola_ano.to_csv(arquivos_gerados + 'premios_massape_escola_ano.csv', index=False)"
   ]
  },
  {
   "cell_type": "code",
   "execution_count": 133,
   "metadata": {
    "colab": {
     "base_uri": "https://localhost:8080/",
     "height": 143
    },
    "executionInfo": {
     "elapsed": 8,
     "status": "ok",
     "timestamp": 1687833983421,
     "user": {
      "displayName": "Gabriela Custódio",
      "userId": "17879241500396315997"
     },
     "user_tz": 180
    },
    "id": "RvlhjJFgO_8B",
    "outputId": "db0a872b-585a-4bbe-c089-63d8d22540d3"
   },
   "outputs": [
    {
     "data": {
      "text/html": [
       "<div>\n",
       "<style scoped>\n",
       "    .dataframe tbody tr th:only-of-type {\n",
       "        vertical-align: middle;\n",
       "    }\n",
       "\n",
       "    .dataframe tbody tr th {\n",
       "        vertical-align: top;\n",
       "    }\n",
       "\n",
       "    .dataframe thead th {\n",
       "        text-align: right;\n",
       "    }\n",
       "</style>\n",
       "<table border=\"1\" class=\"dataframe\">\n",
       "  <thead>\n",
       "    <tr style=\"text-align: right;\">\n",
       "      <th></th>\n",
       "      <th>Ord.</th>\n",
       "      <th>Município</th>\n",
       "      <th>Escola</th>\n",
       "      <th>Série</th>\n",
       "      <th>Ano</th>\n",
       "      <th>Premiada?</th>\n",
       "      <th>Código</th>\n",
       "      <th>Geometria</th>\n",
       "      <th>Escola_Title</th>\n",
       "    </tr>\n",
       "  </thead>\n",
       "  <tbody>\n",
       "    <tr>\n",
       "      <th>921</th>\n",
       "      <td>122</td>\n",
       "      <td>MASSAPÊ</td>\n",
       "      <td>PADRE LINHARES EEF</td>\n",
       "      <td>2º Ano</td>\n",
       "      <td>2022</td>\n",
       "      <td>SIM</td>\n",
       "      <td>2308005</td>\n",
       "      <td>{\"type\":\"MultiPolygon\",\"coordinates\":[[[[-40.3...</td>\n",
       "      <td>Padre Linhares Eef</td>\n",
       "    </tr>\n",
       "    <tr>\n",
       "      <th>1185</th>\n",
       "      <td>16</td>\n",
       "      <td>MASSAPÊ</td>\n",
       "      <td>PADRE LINHARES EEF</td>\n",
       "      <td>5º Ano</td>\n",
       "      <td>2022</td>\n",
       "      <td>SIM</td>\n",
       "      <td>2308005</td>\n",
       "      <td>{\"type\":\"MultiPolygon\",\"coordinates\":[[[[-40.3...</td>\n",
       "      <td>Padre Linhares Eef</td>\n",
       "    </tr>\n",
       "    <tr>\n",
       "      <th>1312</th>\n",
       "      <td>16</td>\n",
       "      <td>MASSAPÊ</td>\n",
       "      <td>PADRE LINHARES EEF</td>\n",
       "      <td>9º Ano</td>\n",
       "      <td>2022</td>\n",
       "      <td>SIM</td>\n",
       "      <td>2308005</td>\n",
       "      <td>{\"type\":\"MultiPolygon\",\"coordinates\":[[[[-40.3...</td>\n",
       "      <td>Padre Linhares Eef</td>\n",
       "    </tr>\n",
       "  </tbody>\n",
       "</table>\n",
       "</div>"
      ],
      "text/plain": [
       "      Ord. Município              Escola   Série   Ano Premiada?   Código  \\\n",
       "921    122   MASSAPÊ  PADRE LINHARES EEF  2º Ano  2022       SIM  2308005   \n",
       "1185    16   MASSAPÊ  PADRE LINHARES EEF  5º Ano  2022       SIM  2308005   \n",
       "1312    16   MASSAPÊ  PADRE LINHARES EEF  9º Ano  2022       SIM  2308005   \n",
       "\n",
       "                                              Geometria        Escola_Title  \n",
       "921   {\"type\":\"MultiPolygon\",\"coordinates\":[[[[-40.3...  Padre Linhares Eef  \n",
       "1185  {\"type\":\"MultiPolygon\",\"coordinates\":[[[[-40.3...  Padre Linhares Eef  \n",
       "1312  {\"type\":\"MultiPolygon\",\"coordinates\":[[[[-40.3...  Padre Linhares Eef  "
      ]
     },
     "execution_count": 133,
     "metadata": {},
     "output_type": "execute_result"
    }
   ],
   "source": [
    "massape[massape['Escola'].str.contains('PADRE LINHARES EEF')]"
   ]
  },
  {
   "cell_type": "code",
   "execution_count": 134,
   "metadata": {
    "executionInfo": {
     "elapsed": 3,
     "status": "ok",
     "timestamp": 1687833986249,
     "user": {
      "displayName": "Gabriela Custódio",
      "userId": "17879241500396315997"
     },
     "user_tz": 180
    },
    "id": "iBql2J_NRHtY"
   },
   "outputs": [],
   "source": [
    "escolas_premiadas_ano = massape[['Escola', 'Série', 'Ano', 'Código']].groupby(['Escola', 'Série', 'Ano']).count().reset_index().pivot_table(index=['Escola'], columns=['Ano', 'Série']).fillna(0).reset_index()"
   ]
  },
  {
   "cell_type": "code",
   "execution_count": 135,
   "metadata": {
    "executionInfo": {
     "elapsed": 318,
     "status": "ok",
     "timestamp": 1687833993302,
     "user": {
      "displayName": "Gabriela Custódio",
      "userId": "17879241500396315997"
     },
     "user_tz": 180
    },
    "id": "RygaG-8_RJZi"
   },
   "outputs": [],
   "source": [
    "escolas_premiadas_ano.to_csv('escolas_premiadas_ano.csv', index=False)"
   ]
  },
  {
   "cell_type": "code",
   "execution_count": 136,
   "metadata": {
    "executionInfo": {
     "elapsed": 2,
     "status": "ok",
     "timestamp": 1687833993653,
     "user": {
      "displayName": "Gabriela Custódio",
      "userId": "17879241500396315997"
     },
     "user_tz": 180
    },
    "id": "6bvFbK5_Qe2l"
   },
   "outputs": [],
   "source": [
    "escolas_premiadas_massape_2022 = massape[massape['Ano'] == 2022]"
   ]
  },
  {
   "cell_type": "code",
   "execution_count": 137,
   "metadata": {
    "colab": {
     "base_uri": "https://localhost:8080/",
     "height": 896
    },
    "executionInfo": {
     "elapsed": 5,
     "status": "ok",
     "timestamp": 1687833994000,
     "user": {
      "displayName": "Gabriela Custódio",
      "userId": "17879241500396315997"
     },
     "user_tz": 180
    },
    "id": "wk_9rHMSQlzy",
    "outputId": "ae072aae-2c05-432d-acda-f6be66dc027f"
   },
   "outputs": [
    {
     "data": {
      "text/html": [
       "<div>\n",
       "<style scoped>\n",
       "    .dataframe tbody tr th:only-of-type {\n",
       "        vertical-align: middle;\n",
       "    }\n",
       "\n",
       "    .dataframe tbody tr th {\n",
       "        vertical-align: top;\n",
       "    }\n",
       "\n",
       "    .dataframe thead th {\n",
       "        text-align: right;\n",
       "    }\n",
       "</style>\n",
       "<table border=\"1\" class=\"dataframe\">\n",
       "  <thead>\n",
       "    <tr style=\"text-align: right;\">\n",
       "      <th></th>\n",
       "      <th></th>\n",
       "      <th>Ano</th>\n",
       "    </tr>\n",
       "    <tr>\n",
       "      <th>Escola</th>\n",
       "      <th>Série</th>\n",
       "      <th></th>\n",
       "    </tr>\n",
       "  </thead>\n",
       "  <tbody>\n",
       "    <tr>\n",
       "      <th rowspan=\"2\" valign=\"top\">ANTONIO DE PAULA PESSOA FIGUEIREDO EEF</th>\n",
       "      <th>5º Ano</th>\n",
       "      <td>1</td>\n",
       "    </tr>\n",
       "    <tr>\n",
       "      <th>9º Ano</th>\n",
       "      <td>1</td>\n",
       "    </tr>\n",
       "    <tr>\n",
       "      <th rowspan=\"2\" valign=\"top\">AURELIANO LOPES EEF</th>\n",
       "      <th>2º Ano</th>\n",
       "      <td>1</td>\n",
       "    </tr>\n",
       "    <tr>\n",
       "      <th>5º Ano</th>\n",
       "      <td>1</td>\n",
       "    </tr>\n",
       "    <tr>\n",
       "      <th rowspan=\"2\" valign=\"top\">BRAS SATIRO NASCIMENTO EEF</th>\n",
       "      <th>2º Ano</th>\n",
       "      <td>1</td>\n",
       "    </tr>\n",
       "    <tr>\n",
       "      <th>5º Ano</th>\n",
       "      <td>1</td>\n",
       "    </tr>\n",
       "    <tr>\n",
       "      <th rowspan=\"2\" valign=\"top\">CENTRO COMUNITARIO FRANCISCO CANUTO EEF</th>\n",
       "      <th>2º Ano</th>\n",
       "      <td>1</td>\n",
       "    </tr>\n",
       "    <tr>\n",
       "      <th>5º Ano</th>\n",
       "      <td>1</td>\n",
       "    </tr>\n",
       "    <tr>\n",
       "      <th rowspan=\"2\" valign=\"top\">CENTRO COMUNITARIO SAO JOSE EEF</th>\n",
       "      <th>2º Ano</th>\n",
       "      <td>1</td>\n",
       "    </tr>\n",
       "    <tr>\n",
       "      <th>5º Ano</th>\n",
       "      <td>1</td>\n",
       "    </tr>\n",
       "    <tr>\n",
       "      <th>EEF CENTRO COMUNITARIO SÃO JOÃO BATISTA</th>\n",
       "      <th>2º Ano</th>\n",
       "      <td>1</td>\n",
       "    </tr>\n",
       "    <tr>\n",
       "      <th>EEF DEPUTADO FRANCISCO ALMEIDA MONTE</th>\n",
       "      <th>5º Ano</th>\n",
       "      <td>1</td>\n",
       "    </tr>\n",
       "    <tr>\n",
       "      <th>FRANCISCA DIOGO GOMES EEF</th>\n",
       "      <th>5º Ano</th>\n",
       "      <td>1</td>\n",
       "    </tr>\n",
       "    <tr>\n",
       "      <th rowspan=\"2\" valign=\"top\">FRANCISCO CARDOSO FERREIRA LIMA EEF</th>\n",
       "      <th>2º Ano</th>\n",
       "      <td>1</td>\n",
       "    </tr>\n",
       "    <tr>\n",
       "      <th>5º Ano</th>\n",
       "      <td>1</td>\n",
       "    </tr>\n",
       "    <tr>\n",
       "      <th>GERARDO EMILIANO EEF</th>\n",
       "      <th>9º Ano</th>\n",
       "      <td>1</td>\n",
       "    </tr>\n",
       "    <tr>\n",
       "      <th>JOSE ESTEVAO VASCONCELOS EEF</th>\n",
       "      <th>9º Ano</th>\n",
       "      <td>1</td>\n",
       "    </tr>\n",
       "    <tr>\n",
       "      <th>MA DO CARMO CARNEIRO EEF</th>\n",
       "      <th>9º Ano</th>\n",
       "      <td>1</td>\n",
       "    </tr>\n",
       "    <tr>\n",
       "      <th>MA LAURA SOARES FROTA EEF</th>\n",
       "      <th>9º Ano</th>\n",
       "      <td>1</td>\n",
       "    </tr>\n",
       "    <tr>\n",
       "      <th>MONSENHOR MANUEL HENRIQUES DE ARAUJO EEF</th>\n",
       "      <th>5º Ano</th>\n",
       "      <td>1</td>\n",
       "    </tr>\n",
       "    <tr>\n",
       "      <th rowspan=\"3\" valign=\"top\">PADRE LINHARES EEF</th>\n",
       "      <th>2º Ano</th>\n",
       "      <td>1</td>\n",
       "    </tr>\n",
       "    <tr>\n",
       "      <th>5º Ano</th>\n",
       "      <td>1</td>\n",
       "    </tr>\n",
       "    <tr>\n",
       "      <th>9º Ano</th>\n",
       "      <td>1</td>\n",
       "    </tr>\n",
       "    <tr>\n",
       "      <th>PEDRO RUFINO FURTADO EEF</th>\n",
       "      <th>5º Ano</th>\n",
       "      <td>1</td>\n",
       "    </tr>\n",
       "    <tr>\n",
       "      <th>PROFESSORA MARIA DO CARMO CARNEIRO CMEF</th>\n",
       "      <th>9º Ano</th>\n",
       "      <td>1</td>\n",
       "    </tr>\n",
       "    <tr>\n",
       "      <th>SANTO ANTONIO EEF</th>\n",
       "      <th>2º Ano</th>\n",
       "      <td>1</td>\n",
       "    </tr>\n",
       "  </tbody>\n",
       "</table>\n",
       "</div>"
      ],
      "text/plain": [
       "                                                 Ano\n",
       "Escola                                   Série      \n",
       "ANTONIO DE PAULA PESSOA FIGUEIREDO EEF   5º Ano    1\n",
       "                                         9º Ano    1\n",
       "AURELIANO LOPES EEF                      2º Ano    1\n",
       "                                         5º Ano    1\n",
       "BRAS SATIRO NASCIMENTO EEF               2º Ano    1\n",
       "                                         5º Ano    1\n",
       "CENTRO COMUNITARIO FRANCISCO CANUTO EEF  2º Ano    1\n",
       "                                         5º Ano    1\n",
       "CENTRO COMUNITARIO SAO JOSE EEF          2º Ano    1\n",
       "                                         5º Ano    1\n",
       "EEF CENTRO COMUNITARIO SÃO JOÃO BATISTA  2º Ano    1\n",
       "EEF DEPUTADO FRANCISCO ALMEIDA MONTE     5º Ano    1\n",
       "FRANCISCA DIOGO GOMES EEF                5º Ano    1\n",
       "FRANCISCO CARDOSO FERREIRA LIMA EEF      2º Ano    1\n",
       "                                         5º Ano    1\n",
       "GERARDO EMILIANO EEF                     9º Ano    1\n",
       "JOSE ESTEVAO VASCONCELOS EEF             9º Ano    1\n",
       "MA DO CARMO CARNEIRO EEF                 9º Ano    1\n",
       "MA LAURA SOARES FROTA EEF                9º Ano    1\n",
       "MONSENHOR MANUEL HENRIQUES DE ARAUJO EEF 5º Ano    1\n",
       "PADRE LINHARES EEF                       2º Ano    1\n",
       "                                         5º Ano    1\n",
       "                                         9º Ano    1\n",
       "PEDRO RUFINO FURTADO EEF                 5º Ano    1\n",
       "PROFESSORA MARIA DO CARMO CARNEIRO CMEF  9º Ano    1\n",
       "SANTO ANTONIO EEF                        2º Ano    1"
      ]
     },
     "execution_count": 137,
     "metadata": {},
     "output_type": "execute_result"
    }
   ],
   "source": [
    "massape[['Ano', 'Série', 'Escola']][massape['Ano'] == 2022].groupby(['Escola', 'Série']).count()"
   ]
  },
  {
   "cell_type": "markdown",
   "metadata": {
    "id": "Fm4MVPI_IoU3"
   },
   "source": [
    "## Censo da Educação Básica"
   ]
  },
  {
   "cell_type": "code",
   "execution_count": 138,
   "metadata": {
    "executionInfo": {
     "elapsed": 290,
     "status": "ok",
     "timestamp": 1687834042730,
     "user": {
      "displayName": "Gabriela Custódio",
      "userId": "17879241500396315997"
     },
     "user_tz": 180
    },
    "id": "YKPttmwzie-2"
   },
   "outputs": [],
   "source": [
    "pd.set_option('display.max_columns', 30)"
   ]
  },
  {
   "cell_type": "code",
   "execution_count": 139,
   "metadata": {
    "colab": {
     "base_uri": "https://localhost:8080/"
    },
    "executionInfo": {
     "elapsed": 12836,
     "status": "ok",
     "timestamp": 1687834056815,
     "user": {
      "displayName": "Gabriela Custódio",
      "userId": "17879241500396315997"
     },
     "user_tz": 180
    },
    "id": "6vsLWpp_IqjW",
    "outputId": "7a92a0a0-88f7-4cf9-9af0-8236d7ba58c9"
   },
   "outputs": [
    {
     "name": "stderr",
     "output_type": "stream",
     "text": [
      "C:\\Users\\55859\\AppData\\Local\\Programs\\Python\\Python39\\lib\\site-packages\\IPython\\core\\interactiveshell.py:3441: DtypeWarning: Columns (27) have mixed types.Specify dtype option on import or set low_memory=False.\n",
      "  exec(code_obj, self.user_global_ns, self.user_ns)\n"
     ]
    }
   ],
   "source": [
    "censo = pd.read_csv(path + 'microdados_ed_basica_2022.csv', encoding='latin-1', sep=';')"
   ]
  },
  {
   "cell_type": "code",
   "execution_count": 140,
   "metadata": {
    "executionInfo": {
     "elapsed": 479,
     "status": "ok",
     "timestamp": 1687834057267,
     "user": {
      "displayName": "Gabriela Custódio",
      "userId": "17879241500396315997"
     },
     "user_tz": 180
    },
    "id": "hQJtxi-4IvP3"
   },
   "outputs": [],
   "source": [
    "censo_massape = censo[censo['NO_MUNICIPIO'] == 'Massapê']"
   ]
  },
  {
   "cell_type": "code",
   "execution_count": 141,
   "metadata": {
    "executionInfo": {
     "elapsed": 12,
     "status": "ok",
     "timestamp": 1687834057267,
     "user": {
      "displayName": "Gabriela Custódio",
      "userId": "17879241500396315997"
     },
     "user_tz": 180
    },
    "id": "a1L4W3A1JcaG"
   },
   "outputs": [],
   "source": [
    "# selecionando as colunas de interesse\n",
    "\n",
    "educacao_basica_massape = censo_massape[['SG_UF', 'CO_UF', 'NO_MUNICIPIO', 'CO_MUNICIPIO', 'NO_ENTIDADE', 'CO_ENTIDADE', 'TP_DEPENDENCIA',\n",
    "                                         'TP_LOCALIZACAO', 'TP_LOCALIZACAO_DIFERENCIADA', 'TP_SITUACAO_FUNCIONAMENTO', 'IN_FUND', 'QT_MAT_FUND',\n",
    "                                         'QT_MAT_FUND_INT', 'QT_MAT_BAS_FEM', 'QT_MAT_BAS_MASC', 'QT_MAT_BAS_ND', 'QT_MAT_BAS_BRANCA', 'QT_MAT_BAS_PRETA',\n",
    "                                         'QT_MAT_BAS_PARDA', 'QT_MAT_BAS_AMARELA', 'QT_MAT_BAS_INDIGENA', 'QT_DOC_FUND', 'QT_TUR_FUND']]"
   ]
  },
  {
   "cell_type": "code",
   "execution_count": 142,
   "metadata": {
    "executionInfo": {
     "elapsed": 12,
     "status": "ok",
     "timestamp": 1687834057268,
     "user": {
      "displayName": "Gabriela Custódio",
      "userId": "17879241500396315997"
     },
     "user_tz": 180
    },
    "id": "q7nasV6BJpto"
   },
   "outputs": [],
   "source": [
    "# filtrando pelas escolas que oferecem turmas da educação básica\n",
    "\n",
    "educacao_basica_massape_ens_fund = educacao_basica_massape[educacao_basica_massape['IN_FUND'] == 1]"
   ]
  },
  {
   "cell_type": "code",
   "execution_count": 143,
   "metadata": {
    "colab": {
     "base_uri": "https://localhost:8080/"
    },
    "executionInfo": {
     "elapsed": 13,
     "status": "ok",
     "timestamp": 1687834057269,
     "user": {
      "displayName": "Gabriela Custódio",
      "userId": "17879241500396315997"
     },
     "user_tz": 180
    },
    "id": "pOws0R1pOdep",
    "outputId": "f34f8d3d-d516-4857-b7ad-f06427220415"
   },
   "outputs": [
    {
     "data": {
      "text/plain": [
       "array([1], dtype=int64)"
      ]
     },
     "execution_count": 143,
     "metadata": {},
     "output_type": "execute_result"
    }
   ],
   "source": [
    "# checando se todas as escolas estão em funcionamento ('TP_SITUACAO_FUNCIONAMENTO' == 1)\n",
    "\n",
    "educacao_basica_massape_ens_fund['TP_SITUACAO_FUNCIONAMENTO'].unique()"
   ]
  },
  {
   "cell_type": "code",
   "execution_count": 144,
   "metadata": {
    "colab": {
     "base_uri": "https://localhost:8080/",
     "height": 206
    },
    "executionInfo": {
     "elapsed": 6,
     "status": "ok",
     "timestamp": 1687834061673,
     "user": {
      "displayName": "Gabriela Custódio",
      "userId": "17879241500396315997"
     },
     "user_tz": 180
    },
    "id": "CzIB-ZliLaZ0",
    "outputId": "b3a9cc17-4cd9-4728-f074-ecee5041da53"
   },
   "outputs": [
    {
     "data": {
      "text/html": [
       "<div>\n",
       "<style scoped>\n",
       "    .dataframe tbody tr th:only-of-type {\n",
       "        vertical-align: middle;\n",
       "    }\n",
       "\n",
       "    .dataframe tbody tr th {\n",
       "        vertical-align: top;\n",
       "    }\n",
       "\n",
       "    .dataframe thead th {\n",
       "        text-align: right;\n",
       "    }\n",
       "</style>\n",
       "<table border=\"1\" class=\"dataframe\">\n",
       "  <thead>\n",
       "    <tr style=\"text-align: right;\">\n",
       "      <th></th>\n",
       "      <th>CO_ENTIDADE</th>\n",
       "      <th>TP_DEPENDENCIA</th>\n",
       "      <th>0</th>\n",
       "    </tr>\n",
       "  </thead>\n",
       "  <tbody>\n",
       "    <tr>\n",
       "      <th>0</th>\n",
       "      <td>23020423</td>\n",
       "      <td>Municipal</td>\n",
       "      <td>1</td>\n",
       "    </tr>\n",
       "    <tr>\n",
       "      <th>1</th>\n",
       "      <td>23021152</td>\n",
       "      <td>Privada</td>\n",
       "      <td>1</td>\n",
       "    </tr>\n",
       "    <tr>\n",
       "      <th>2</th>\n",
       "      <td>23272686</td>\n",
       "      <td>Municipal</td>\n",
       "      <td>1</td>\n",
       "    </tr>\n",
       "    <tr>\n",
       "      <th>3</th>\n",
       "      <td>23240946</td>\n",
       "      <td>Municipal</td>\n",
       "      <td>1</td>\n",
       "    </tr>\n",
       "    <tr>\n",
       "      <th>4</th>\n",
       "      <td>23237090</td>\n",
       "      <td>Privada</td>\n",
       "      <td>1</td>\n",
       "    </tr>\n",
       "  </tbody>\n",
       "</table>\n",
       "</div>"
      ],
      "text/plain": [
       "   CO_ENTIDADE TP_DEPENDENCIA  0\n",
       "0     23020423      Municipal  1\n",
       "1     23021152        Privada  1\n",
       "2     23272686      Municipal  1\n",
       "3     23240946      Municipal  1\n",
       "4     23237090        Privada  1"
      ]
     },
     "execution_count": 144,
     "metadata": {},
     "output_type": "execute_result"
    }
   ],
   "source": [
    "# checando a que esfera pertence cada escola\n",
    "\n",
    "dependencia = {\n",
    "    1: 'Federal',\n",
    "    2: 'Estadual',\n",
    "    3: 'Municipal',\n",
    "    4: 'Privada'\n",
    "}\n",
    "\n",
    "dependencia_escolas_ens_fund_massape = educacao_basica_massape_ens_fund[['CO_ENTIDADE', 'TP_DEPENDENCIA']].value_counts().reset_index()\n",
    "dependencia_escolas_ens_fund_massape['TP_DEPENDENCIA'] = dependencia_escolas_ens_fund_massape['TP_DEPENDENCIA'].replace(dependencia)\n",
    "dependencia_escolas_ens_fund_massape.head()"
   ]
  },
  {
   "cell_type": "code",
   "execution_count": 145,
   "metadata": {
    "colab": {
     "base_uri": "https://localhost:8080/",
     "height": 112
    },
    "executionInfo": {
     "elapsed": 5,
     "status": "ok",
     "timestamp": 1687834062125,
     "user": {
      "displayName": "Gabriela Custódio",
      "userId": "17879241500396315997"
     },
     "user_tz": 180
    },
    "id": "gHcoRP7nLkvq",
    "outputId": "d07bb4a8-deb8-4543-ddbc-089f2073d36f"
   },
   "outputs": [
    {
     "data": {
      "text/html": [
       "<div>\n",
       "<style scoped>\n",
       "    .dataframe tbody tr th:only-of-type {\n",
       "        vertical-align: middle;\n",
       "    }\n",
       "\n",
       "    .dataframe tbody tr th {\n",
       "        vertical-align: top;\n",
       "    }\n",
       "\n",
       "    .dataframe thead th {\n",
       "        text-align: right;\n",
       "    }\n",
       "</style>\n",
       "<table border=\"1\" class=\"dataframe\">\n",
       "  <thead>\n",
       "    <tr style=\"text-align: right;\">\n",
       "      <th></th>\n",
       "      <th>TP_DEPENDENCIA</th>\n",
       "      <th>CO_ENTIDADE</th>\n",
       "      <th>QUANTIDADE_ESCOLAS</th>\n",
       "    </tr>\n",
       "  </thead>\n",
       "  <tbody>\n",
       "    <tr>\n",
       "      <th>0</th>\n",
       "      <td>Municipal</td>\n",
       "      <td>599642216</td>\n",
       "      <td>26</td>\n",
       "    </tr>\n",
       "    <tr>\n",
       "      <th>1</th>\n",
       "      <td>Privada</td>\n",
       "      <td>115790262</td>\n",
       "      <td>5</td>\n",
       "    </tr>\n",
       "  </tbody>\n",
       "</table>\n",
       "</div>"
      ],
      "text/plain": [
       "  TP_DEPENDENCIA  CO_ENTIDADE  QUANTIDADE_ESCOLAS\n",
       "0      Municipal    599642216                  26\n",
       "1        Privada    115790262                   5"
      ]
     },
     "execution_count": 145,
     "metadata": {},
     "output_type": "execute_result"
    }
   ],
   "source": [
    "# checando quantas escolas pertencem a cada esfera\n",
    "\n",
    "dependencia_escolas_ens_fund_massape.groupby('TP_DEPENDENCIA').sum().reset_index().rename(columns={0: 'QUANTIDADE_ESCOLAS'})"
   ]
  },
  {
   "cell_type": "code",
   "execution_count": 146,
   "metadata": {
    "colab": {
     "base_uri": "https://localhost:8080/",
     "height": 206
    },
    "executionInfo": {
     "elapsed": 7,
     "status": "ok",
     "timestamp": 1687834062514,
     "user": {
      "displayName": "Gabriela Custódio",
      "userId": "17879241500396315997"
     },
     "user_tz": 180
    },
    "id": "n4JXyFzqMmcd",
    "outputId": "8af5cb78-bbf3-46b5-c050-e2bbd2cad7b2"
   },
   "outputs": [
    {
     "data": {
      "text/html": [
       "<div>\n",
       "<style scoped>\n",
       "    .dataframe tbody tr th:only-of-type {\n",
       "        vertical-align: middle;\n",
       "    }\n",
       "\n",
       "    .dataframe tbody tr th {\n",
       "        vertical-align: top;\n",
       "    }\n",
       "\n",
       "    .dataframe thead th {\n",
       "        text-align: right;\n",
       "    }\n",
       "</style>\n",
       "<table border=\"1\" class=\"dataframe\">\n",
       "  <thead>\n",
       "    <tr style=\"text-align: right;\">\n",
       "      <th></th>\n",
       "      <th>CO_ENTIDADE</th>\n",
       "      <th>TP_LOCALIZACAO</th>\n",
       "      <th>0</th>\n",
       "    </tr>\n",
       "  </thead>\n",
       "  <tbody>\n",
       "    <tr>\n",
       "      <th>0</th>\n",
       "      <td>23020423</td>\n",
       "      <td>Rural</td>\n",
       "      <td>1</td>\n",
       "    </tr>\n",
       "    <tr>\n",
       "      <th>1</th>\n",
       "      <td>23021152</td>\n",
       "      <td>Urbana</td>\n",
       "      <td>1</td>\n",
       "    </tr>\n",
       "    <tr>\n",
       "      <th>2</th>\n",
       "      <td>23272686</td>\n",
       "      <td>Urbana</td>\n",
       "      <td>1</td>\n",
       "    </tr>\n",
       "    <tr>\n",
       "      <th>3</th>\n",
       "      <td>23240946</td>\n",
       "      <td>Urbana</td>\n",
       "      <td>1</td>\n",
       "    </tr>\n",
       "    <tr>\n",
       "      <th>4</th>\n",
       "      <td>23237090</td>\n",
       "      <td>Urbana</td>\n",
       "      <td>1</td>\n",
       "    </tr>\n",
       "  </tbody>\n",
       "</table>\n",
       "</div>"
      ],
      "text/plain": [
       "   CO_ENTIDADE TP_LOCALIZACAO  0\n",
       "0     23020423          Rural  1\n",
       "1     23021152         Urbana  1\n",
       "2     23272686         Urbana  1\n",
       "3     23240946         Urbana  1\n",
       "4     23237090         Urbana  1"
      ]
     },
     "execution_count": 146,
     "metadata": {},
     "output_type": "execute_result"
    }
   ],
   "source": [
    "# checando a que localização pertence cada escola\n",
    "\n",
    "localizacao = {\n",
    "    1: 'Urbana',\n",
    "    2: 'Rural'\n",
    "}\n",
    "\n",
    "localizacao_escolas_ens_fund_massape = educacao_basica_massape_ens_fund[['CO_ENTIDADE', 'TP_LOCALIZACAO']].value_counts().reset_index()\n",
    "localizacao_escolas_ens_fund_massape['TP_LOCALIZACAO'] = localizacao_escolas_ens_fund_massape['TP_LOCALIZACAO'].replace(localizacao)\n",
    "localizacao_escolas_ens_fund_massape.head()"
   ]
  },
  {
   "cell_type": "code",
   "execution_count": 147,
   "metadata": {
    "colab": {
     "base_uri": "https://localhost:8080/",
     "height": 112
    },
    "executionInfo": {
     "elapsed": 5,
     "status": "ok",
     "timestamp": 1687834062889,
     "user": {
      "displayName": "Gabriela Custódio",
      "userId": "17879241500396315997"
     },
     "user_tz": 180
    },
    "id": "vseBnVFsM90t",
    "outputId": "df00289a-95ff-483b-a760-3cc15e7f97b6"
   },
   "outputs": [
    {
     "data": {
      "text/html": [
       "<div>\n",
       "<style scoped>\n",
       "    .dataframe tbody tr th:only-of-type {\n",
       "        vertical-align: middle;\n",
       "    }\n",
       "\n",
       "    .dataframe tbody tr th {\n",
       "        vertical-align: top;\n",
       "    }\n",
       "\n",
       "    .dataframe thead th {\n",
       "        text-align: right;\n",
       "    }\n",
       "</style>\n",
       "<table border=\"1\" class=\"dataframe\">\n",
       "  <thead>\n",
       "    <tr style=\"text-align: right;\">\n",
       "      <th></th>\n",
       "      <th>TP_LOCALIZACAO</th>\n",
       "      <th>QUANTIDADE_ESCOLAS</th>\n",
       "    </tr>\n",
       "  </thead>\n",
       "  <tbody>\n",
       "    <tr>\n",
       "      <th>0</th>\n",
       "      <td>Rural</td>\n",
       "      <td>9</td>\n",
       "    </tr>\n",
       "    <tr>\n",
       "      <th>1</th>\n",
       "      <td>Urbana</td>\n",
       "      <td>22</td>\n",
       "    </tr>\n",
       "  </tbody>\n",
       "</table>\n",
       "</div>"
      ],
      "text/plain": [
       "  TP_LOCALIZACAO  QUANTIDADE_ESCOLAS\n",
       "0          Rural                   9\n",
       "1         Urbana                  22"
      ]
     },
     "execution_count": 147,
     "metadata": {},
     "output_type": "execute_result"
    }
   ],
   "source": [
    "# checando quantas escolas pertencem a cada localização\n",
    "\n",
    "localizacao_escolas_ens_fund_massape[['TP_LOCALIZACAO', 0]].groupby('TP_LOCALIZACAO').sum().reset_index().rename(columns={0: 'QUANTIDADE_ESCOLAS'})"
   ]
  },
  {
   "cell_type": "code",
   "execution_count": 148,
   "metadata": {
    "colab": {
     "base_uri": "https://localhost:8080/",
     "height": 206
    },
    "executionInfo": {
     "elapsed": 5,
     "status": "ok",
     "timestamp": 1687834063203,
     "user": {
      "displayName": "Gabriela Custódio",
      "userId": "17879241500396315997"
     },
     "user_tz": 180
    },
    "id": "3U11ImZXNomd",
    "outputId": "a3a49368-9e8f-4f2f-c7ac-41e81351b345"
   },
   "outputs": [
    {
     "data": {
      "text/html": [
       "<div>\n",
       "<style scoped>\n",
       "    .dataframe tbody tr th:only-of-type {\n",
       "        vertical-align: middle;\n",
       "    }\n",
       "\n",
       "    .dataframe tbody tr th {\n",
       "        vertical-align: top;\n",
       "    }\n",
       "\n",
       "    .dataframe thead th {\n",
       "        text-align: right;\n",
       "    }\n",
       "</style>\n",
       "<table border=\"1\" class=\"dataframe\">\n",
       "  <thead>\n",
       "    <tr style=\"text-align: right;\">\n",
       "      <th></th>\n",
       "      <th>CO_ENTIDADE</th>\n",
       "      <th>TP_LOCALIZACAO_DIFERENCIADA</th>\n",
       "      <th>0</th>\n",
       "    </tr>\n",
       "  </thead>\n",
       "  <tbody>\n",
       "    <tr>\n",
       "      <th>0</th>\n",
       "      <td>23020423</td>\n",
       "      <td>A escola não está em área de localização difer...</td>\n",
       "      <td>1</td>\n",
       "    </tr>\n",
       "    <tr>\n",
       "      <th>1</th>\n",
       "      <td>23021152</td>\n",
       "      <td>A escola não está em área de localização difer...</td>\n",
       "      <td>1</td>\n",
       "    </tr>\n",
       "    <tr>\n",
       "      <th>2</th>\n",
       "      <td>23272686</td>\n",
       "      <td>A escola não está em área de localização difer...</td>\n",
       "      <td>1</td>\n",
       "    </tr>\n",
       "    <tr>\n",
       "      <th>3</th>\n",
       "      <td>23240946</td>\n",
       "      <td>A escola não está em área de localização difer...</td>\n",
       "      <td>1</td>\n",
       "    </tr>\n",
       "    <tr>\n",
       "      <th>4</th>\n",
       "      <td>23237090</td>\n",
       "      <td>A escola não está em área de localização difer...</td>\n",
       "      <td>1</td>\n",
       "    </tr>\n",
       "  </tbody>\n",
       "</table>\n",
       "</div>"
      ],
      "text/plain": [
       "   CO_ENTIDADE                        TP_LOCALIZACAO_DIFERENCIADA  0\n",
       "0     23020423  A escola não está em área de localização difer...  1\n",
       "1     23021152  A escola não está em área de localização difer...  1\n",
       "2     23272686  A escola não está em área de localização difer...  1\n",
       "3     23240946  A escola não está em área de localização difer...  1\n",
       "4     23237090  A escola não está em área de localização difer...  1"
      ]
     },
     "execution_count": 148,
     "metadata": {},
     "output_type": "execute_result"
    }
   ],
   "source": [
    "# checando a que localização diferenciada pertence cada escola\n",
    "\n",
    "localizacao_diferenciada = {\n",
    "    0: 'A escola não está em área de localização diferenciada',\n",
    "    1: 'Área de assentamento',\n",
    "    2: 'Terra indígena',\n",
    "    3: 'Área onde se localiza comunidade remanescente de quilombos'\n",
    "}\n",
    "\n",
    "localizacao_diferenciada_escolas_ens_fund_massape = educacao_basica_massape_ens_fund[['CO_ENTIDADE', 'TP_LOCALIZACAO_DIFERENCIADA']].value_counts().reset_index()\n",
    "localizacao_diferenciada_escolas_ens_fund_massape['TP_LOCALIZACAO_DIFERENCIADA'] = localizacao_diferenciada_escolas_ens_fund_massape['TP_LOCALIZACAO_DIFERENCIADA'].replace(localizacao_diferenciada)\n",
    "localizacao_diferenciada_escolas_ens_fund_massape.head()"
   ]
  },
  {
   "cell_type": "code",
   "execution_count": 149,
   "metadata": {
    "colab": {
     "base_uri": "https://localhost:8080/",
     "height": 81
    },
    "executionInfo": {
     "elapsed": 5,
     "status": "ok",
     "timestamp": 1687834063493,
     "user": {
      "displayName": "Gabriela Custódio",
      "userId": "17879241500396315997"
     },
     "user_tz": 180
    },
    "id": "oQUMid4GOD3-",
    "outputId": "ff7d8990-b049-4876-db46-df37c298070f"
   },
   "outputs": [
    {
     "data": {
      "text/html": [
       "<div>\n",
       "<style scoped>\n",
       "    .dataframe tbody tr th:only-of-type {\n",
       "        vertical-align: middle;\n",
       "    }\n",
       "\n",
       "    .dataframe tbody tr th {\n",
       "        vertical-align: top;\n",
       "    }\n",
       "\n",
       "    .dataframe thead th {\n",
       "        text-align: right;\n",
       "    }\n",
       "</style>\n",
       "<table border=\"1\" class=\"dataframe\">\n",
       "  <thead>\n",
       "    <tr style=\"text-align: right;\">\n",
       "      <th></th>\n",
       "      <th>TP_LOCALIZACAO_DIFERENCIADA</th>\n",
       "      <th>QUANTIDADE_ESCOLAS</th>\n",
       "    </tr>\n",
       "  </thead>\n",
       "  <tbody>\n",
       "    <tr>\n",
       "      <th>0</th>\n",
       "      <td>A escola não está em área de localização difer...</td>\n",
       "      <td>31</td>\n",
       "    </tr>\n",
       "  </tbody>\n",
       "</table>\n",
       "</div>"
      ],
      "text/plain": [
       "                         TP_LOCALIZACAO_DIFERENCIADA  QUANTIDADE_ESCOLAS\n",
       "0  A escola não está em área de localização difer...                  31"
      ]
     },
     "execution_count": 149,
     "metadata": {},
     "output_type": "execute_result"
    }
   ],
   "source": [
    "# checando quantas escolas pertencem a cada localização diferenciada\n",
    "\n",
    "localizacao_diferenciada_escolas_ens_fund_massape[['TP_LOCALIZACAO_DIFERENCIADA', 0]].groupby('TP_LOCALIZACAO_DIFERENCIADA').sum().reset_index().rename(columns={0: 'QUANTIDADE_ESCOLAS'})"
   ]
  },
  {
   "cell_type": "code",
   "execution_count": 150,
   "metadata": {
    "colab": {
     "base_uri": "https://localhost:8080/"
    },
    "executionInfo": {
     "elapsed": 4,
     "status": "ok",
     "timestamp": 1687834063919,
     "user": {
      "displayName": "Gabriela Custódio",
      "userId": "17879241500396315997"
     },
     "user_tz": 180
    },
    "id": "Jh8kYHNYOOEh",
    "outputId": "4f5c4153-b521-4ae5-a406-5e73deff2b16"
   },
   "outputs": [
    {
     "data": {
      "text/plain": [
       "5000.0"
      ]
     },
     "execution_count": 150,
     "metadata": {},
     "output_type": "execute_result"
    }
   ],
   "source": [
    "# verificando a quantidade de matrículas na educação básica do município\n",
    "\n",
    "qtd_matriculas = educacao_basica_massape_ens_fund[['NO_ENTIDADE', 'CO_ENTIDADE', 'QT_MAT_FUND']]\n",
    "qtd_matriculas['QT_MAT_FUND'].sum()"
   ]
  },
  {
   "cell_type": "code",
   "execution_count": 151,
   "metadata": {
    "colab": {
     "base_uri": "https://localhost:8080/"
    },
    "executionInfo": {
     "elapsed": 4,
     "status": "ok",
     "timestamp": 1687834064527,
     "user": {
      "displayName": "Gabriela Custódio",
      "userId": "17879241500396315997"
     },
     "user_tz": 180
    },
    "id": "n3DxQ-lbPBof",
    "outputId": "6d042f0d-9134-44d1-c9fd-8f272119ba1f"
   },
   "outputs": [
    {
     "data": {
      "text/plain": [
       "QT_MAT_BAS_FEM     3074.0\n",
       "QT_MAT_BAS_MASC    3218.0\n",
       "dtype: float64"
      ]
     },
     "execution_count": 151,
     "metadata": {},
     "output_type": "execute_result"
    }
   ],
   "source": [
    "# verificando matrículas por gênero\n",
    "\n",
    "genero_alunos = educacao_basica_massape_ens_fund[['NO_ENTIDADE', 'CO_ENTIDADE', 'QT_MAT_BAS_FEM', 'QT_MAT_BAS_MASC']]\n",
    "genero_alunos[['QT_MAT_BAS_FEM', 'QT_MAT_BAS_MASC']].sum()"
   ]
  },
  {
   "cell_type": "code",
   "execution_count": 152,
   "metadata": {
    "colab": {
     "base_uri": "https://localhost:8080/",
     "height": 238
    },
    "executionInfo": {
     "elapsed": 6,
     "status": "ok",
     "timestamp": 1687834065835,
     "user": {
      "displayName": "Gabriela Custódio",
      "userId": "17879241500396315997"
     },
     "user_tz": 180
    },
    "id": "81QNVqWlPoE8",
    "outputId": "a2fc68d7-e10c-419f-ab6d-2610b2c9b04b"
   },
   "outputs": [
    {
     "data": {
      "text/html": [
       "<div>\n",
       "<style scoped>\n",
       "    .dataframe tbody tr th:only-of-type {\n",
       "        vertical-align: middle;\n",
       "    }\n",
       "\n",
       "    .dataframe tbody tr th {\n",
       "        vertical-align: top;\n",
       "    }\n",
       "\n",
       "    .dataframe thead th {\n",
       "        text-align: right;\n",
       "    }\n",
       "</style>\n",
       "<table border=\"1\" class=\"dataframe\">\n",
       "  <thead>\n",
       "    <tr style=\"text-align: right;\">\n",
       "      <th></th>\n",
       "      <th>index</th>\n",
       "      <th>0</th>\n",
       "    </tr>\n",
       "  </thead>\n",
       "  <tbody>\n",
       "    <tr>\n",
       "      <th>0</th>\n",
       "      <td>QT_MAT_BAS_ND</td>\n",
       "      <td>488.0</td>\n",
       "    </tr>\n",
       "    <tr>\n",
       "      <th>1</th>\n",
       "      <td>QT_MAT_BAS_BRANCA</td>\n",
       "      <td>396.0</td>\n",
       "    </tr>\n",
       "    <tr>\n",
       "      <th>2</th>\n",
       "      <td>QT_MAT_BAS_PRETA</td>\n",
       "      <td>53.0</td>\n",
       "    </tr>\n",
       "    <tr>\n",
       "      <th>3</th>\n",
       "      <td>QT_MAT_BAS_PARDA</td>\n",
       "      <td>5340.0</td>\n",
       "    </tr>\n",
       "    <tr>\n",
       "      <th>4</th>\n",
       "      <td>QT_MAT_BAS_AMARELA</td>\n",
       "      <td>11.0</td>\n",
       "    </tr>\n",
       "    <tr>\n",
       "      <th>5</th>\n",
       "      <td>QT_MAT_BAS_INDIGENA</td>\n",
       "      <td>4.0</td>\n",
       "    </tr>\n",
       "  </tbody>\n",
       "</table>\n",
       "</div>"
      ],
      "text/plain": [
       "                 index       0\n",
       "0        QT_MAT_BAS_ND   488.0\n",
       "1    QT_MAT_BAS_BRANCA   396.0\n",
       "2     QT_MAT_BAS_PRETA    53.0\n",
       "3     QT_MAT_BAS_PARDA  5340.0\n",
       "4   QT_MAT_BAS_AMARELA    11.0\n",
       "5  QT_MAT_BAS_INDIGENA     4.0"
      ]
     },
     "execution_count": 152,
     "metadata": {},
     "output_type": "execute_result"
    }
   ],
   "source": [
    "# verificando matrículas por cor/raça\n",
    "\n",
    "cor_raca_alunos = educacao_basica_massape_ens_fund[['NO_ENTIDADE', 'CO_ENTIDADE', 'QT_MAT_BAS_ND', 'QT_MAT_BAS_BRANCA',\n",
    "                                           'QT_MAT_BAS_PRETA', 'QT_MAT_BAS_PARDA', 'QT_MAT_BAS_AMARELA', 'QT_MAT_BAS_INDIGENA']]\n",
    "\n",
    "cor_raca_alunos[['QT_MAT_BAS_ND', 'QT_MAT_BAS_BRANCA','QT_MAT_BAS_PRETA', 'QT_MAT_BAS_PARDA', 'QT_MAT_BAS_AMARELA', 'QT_MAT_BAS_INDIGENA']].sum().reset_index()"
   ]
  },
  {
   "cell_type": "code",
   "execution_count": 153,
   "metadata": {
    "colab": {
     "base_uri": "https://localhost:8080/"
    },
    "executionInfo": {
     "elapsed": 8,
     "status": "ok",
     "timestamp": 1687834066232,
     "user": {
      "displayName": "Gabriela Custódio",
      "userId": "17879241500396315997"
     },
     "user_tz": 180
    },
    "id": "_wsAsASDP6Tg",
    "outputId": "8165495d-baa8-4560-f913-a4afe6c770cb"
   },
   "outputs": [
    {
     "data": {
      "text/plain": [
       "QT_DOC_FUND    333.0\n",
       "dtype: float64"
      ]
     },
     "execution_count": 153,
     "metadata": {},
     "output_type": "execute_result"
    }
   ],
   "source": [
    "# verificando a quantidade de docentes na educação básica de massapê\n",
    "\n",
    "docentes_ens_fund_massape = educacao_basica_massape_ens_fund[['NO_ENTIDADE', 'CO_ENTIDADE', 'QT_DOC_FUND']]\n",
    "docentes_ens_fund_massape[['QT_DOC_FUND']].sum()"
   ]
  },
  {
   "cell_type": "code",
   "execution_count": 154,
   "metadata": {
    "colab": {
     "base_uri": "https://localhost:8080/"
    },
    "executionInfo": {
     "elapsed": 6,
     "status": "ok",
     "timestamp": 1687834066232,
     "user": {
      "displayName": "Gabriela Custódio",
      "userId": "17879241500396315997"
     },
     "user_tz": 180
    },
    "id": "Kh7OXaI0QNvK",
    "outputId": "9f6802f2-2c08-45e2-9a64-a0ecfc714f5d"
   },
   "outputs": [
    {
     "data": {
      "text/plain": [
       "QT_TUR_FUND    231.0\n",
       "dtype: float64"
      ]
     },
     "execution_count": 154,
     "metadata": {},
     "output_type": "execute_result"
    }
   ],
   "source": [
    "# verificando a quantidade de turmas na educação básica de massapê\n",
    "\n",
    "turmas_ens_fund_massape = educacao_basica_massape_ens_fund[['NO_ENTIDADE', 'CO_ENTIDADE', 'QT_TUR_FUND']]\n",
    "turmas_ens_fund_massape[['QT_TUR_FUND']].sum()"
   ]
  },
  {
   "cell_type": "code",
   "execution_count": 155,
   "metadata": {
    "colab": {
     "base_uri": "https://localhost:8080/"
    },
    "executionInfo": {
     "elapsed": 13,
     "status": "ok",
     "timestamp": 1687834067303,
     "user": {
      "displayName": "Gabriela Custódio",
      "userId": "17879241500396315997"
     },
     "user_tz": 180
    },
    "id": "QeAK1sPvQvfE",
    "outputId": "ca773059-d797-455c-a526-0ee7f3f8673f"
   },
   "outputs": [
    {
     "name": "stderr",
     "output_type": "stream",
     "text": [
      "C:\\Users\\55859\\AppData\\Local\\Temp/ipykernel_764/3212610064.py:8: SettingWithCopyWarning: \n",
      "A value is trying to be set on a copy of a slice from a DataFrame.\n",
      "Try using .loc[row_indexer,col_indexer] = value instead\n",
      "\n",
      "See the caveats in the documentation: https://pandas.pydata.org/pandas-docs/stable/user_guide/indexing.html#returning-a-view-versus-a-copy\n",
      "  educacao_basica_massape_ens_fund['PREMIACAO'] = educacao_basica_massape_ens_fund['NO_ENTIDADE'].apply(lambda x: 'Premiada' if x in escolas_nota_dez else 'Não Premiada')\n"
     ]
    }
   ],
   "source": [
    "# selecionar as escolas nota 10\n",
    "\n",
    "escolas_nota_dez = ['SANTO ANTONIO EEF', 'CENTRO COMUNITARIO FRANCISCO CANUTO EEF', 'CENTRO COMUNITARIO SAO JOAO BATISTA EEF', 'FRANCISCO CARDOSO FERREIRA LIMA EEF',\n",
    "                    'BRAS SATIRO NASCIMENTO EEF', 'AURELIANO LOPES EEF', 'CENTRO COMUNITARIO SAO JOSE EEF', 'PADRE LINHARES EEF', 'FRANCISCA DIOGO GOMES EEF',\n",
    "                    'ANTONIO DE PAULA PESSOA FIGUEIREDO EEF', 'PEDRO RUFINO FURTADO EEF', 'DEPUTADO FRANCISCO ALMEIDA MONTE EEF', 'MONSENHOR MANUEL HENRIQUES DE ARAUJO EEF',\n",
    "                    'GERARDO EMILIANO EEF', 'MA DO CARMO CARNEIRO EEF', 'MA LAURA SOARES FROTA EEF', 'JOSE ESTEVAO VASCONCELOS EEF', 'PROFESSORA MARIA DO CARMO CARNEIRO CMEF']\n",
    "\n",
    "educacao_basica_massape_ens_fund['PREMIACAO'] = educacao_basica_massape_ens_fund['NO_ENTIDADE'].apply(lambda x: 'Premiada' if x in escolas_nota_dez else 'Não Premiada')"
   ]
  },
  {
   "cell_type": "code",
   "execution_count": 156,
   "metadata": {
    "colab": {
     "base_uri": "https://localhost:8080/"
    },
    "executionInfo": {
     "elapsed": 10,
     "status": "ok",
     "timestamp": 1687834067304,
     "user": {
      "displayName": "Gabriela Custódio",
      "userId": "17879241500396315997"
     },
     "user_tz": 180
    },
    "id": "g_-DpCuNX6D6",
    "outputId": "9fca6d03-b5db-44bc-eb55-2030c5bf590a"
   },
   "outputs": [
    {
     "data": {
      "text/plain": [
       "Premiada        18\n",
       "Não Premiada    13\n",
       "Name: PREMIACAO, dtype: int64"
      ]
     },
     "execution_count": 156,
     "metadata": {},
     "output_type": "execute_result"
    }
   ],
   "source": [
    "educacao_basica_massape_ens_fund['PREMIACAO'].value_counts()"
   ]
  },
  {
   "cell_type": "markdown",
   "metadata": {
    "id": "AtNPk60ndIm8"
   },
   "source": [
    "#### Verificar informações sobre as escolas premiadas como Nota 10"
   ]
  },
  {
   "cell_type": "code",
   "execution_count": 157,
   "metadata": {
    "executionInfo": {
     "elapsed": 322,
     "status": "ok",
     "timestamp": 1687834069062,
     "user": {
      "displayName": "Gabriela Custódio",
      "userId": "17879241500396315997"
     },
     "user_tz": 180
    },
    "id": "OTVjtOxSSrCk"
   },
   "outputs": [],
   "source": [
    "escolas_premiadas_massape = educacao_basica_massape_ens_fund[educacao_basica_massape_ens_fund['PREMIACAO'] == 'Premiada']"
   ]
  },
  {
   "cell_type": "code",
   "execution_count": 158,
   "metadata": {
    "colab": {
     "base_uri": "https://localhost:8080/"
    },
    "executionInfo": {
     "elapsed": 4,
     "status": "ok",
     "timestamp": 1687834070194,
     "user": {
      "displayName": "Gabriela Custódio",
      "userId": "17879241500396315997"
     },
     "user_tz": 180
    },
    "id": "E3xiVoLoij4h",
    "outputId": "aee1be99-3611-449a-b86b-1b45e1ec1f32"
   },
   "outputs": [
    {
     "name": "stderr",
     "output_type": "stream",
     "text": [
      "C:\\Users\\55859\\AppData\\Local\\Temp/ipykernel_764/311466119.py:1: SettingWithCopyWarning: \n",
      "A value is trying to be set on a copy of a slice from a DataFrame.\n",
      "Try using .loc[row_indexer,col_indexer] = value instead\n",
      "\n",
      "See the caveats in the documentation: https://pandas.pydata.org/pandas-docs/stable/user_guide/indexing.html#returning-a-view-versus-a-copy\n",
      "  escolas_premiadas_massape['NO_ENTIDADE_TITLE'] = escolas_premiadas_massape['NO_ENTIDADE'].str.title()\n"
     ]
    }
   ],
   "source": [
    "escolas_premiadas_massape['NO_ENTIDADE_TITLE'] = escolas_premiadas_massape['NO_ENTIDADE'].str.title()"
   ]
  },
  {
   "cell_type": "code",
   "execution_count": 159,
   "metadata": {
    "colab": {
     "base_uri": "https://localhost:8080/"
    },
    "executionInfo": {
     "elapsed": 5,
     "status": "ok",
     "timestamp": 1687834070598,
     "user": {
      "displayName": "Gabriela Custódio",
      "userId": "17879241500396315997"
     },
     "user_tz": 180
    },
    "id": "XlT8-a3dbYsC",
    "outputId": "d4c35189-7fb6-4b4d-8333-dbbb40c01e27"
   },
   "outputs": [
    {
     "data": {
      "text/plain": [
       "3400.0"
      ]
     },
     "execution_count": 159,
     "metadata": {},
     "output_type": "execute_result"
    }
   ],
   "source": [
    "# verificando a quantidade de matrículas nas escolas nota 10 de Massapê em 2022\n",
    "\n",
    "qtd_matriculas_escolas_nota_10 = escolas_premiadas_massape[['NO_ENTIDADE', 'CO_ENTIDADE', 'QT_MAT_FUND']]\n",
    "qtd_matriculas_escolas_nota_10['QT_MAT_FUND'].sum()"
   ]
  },
  {
   "cell_type": "code",
   "execution_count": 160,
   "metadata": {
    "colab": {
     "base_uri": "https://localhost:8080/"
    },
    "executionInfo": {
     "elapsed": 5,
     "status": "ok",
     "timestamp": 1687834071618,
     "user": {
      "displayName": "Gabriela Custódio",
      "userId": "17879241500396315997"
     },
     "user_tz": 180
    },
    "id": "md4CfSj0bbq3",
    "outputId": "268d2e5c-14dd-48b9-ca95-32668a57393c"
   },
   "outputs": [
    {
     "data": {
      "text/plain": [
       "QT_MAT_BAS_FEM     1993.0\n",
       "QT_MAT_BAS_MASC    2130.0\n",
       "dtype: float64"
      ]
     },
     "execution_count": 160,
     "metadata": {},
     "output_type": "execute_result"
    }
   ],
   "source": [
    "# verificando matrículas por gênero nas escolas nota 10\n",
    "\n",
    "qtd_matriculas_genero_alunos_escolas_nota_10 = escolas_premiadas_massape[['NO_ENTIDADE', 'CO_ENTIDADE', 'QT_MAT_BAS_FEM', 'QT_MAT_BAS_MASC']]\n",
    "qtd_matriculas_genero_alunos_escolas_nota_10[['QT_MAT_BAS_FEM',\t'QT_MAT_BAS_MASC']].sum()"
   ]
  },
  {
   "cell_type": "code",
   "execution_count": 161,
   "metadata": {
    "colab": {
     "base_uri": "https://localhost:8080/"
    },
    "executionInfo": {
     "elapsed": 7,
     "status": "ok",
     "timestamp": 1687834072084,
     "user": {
      "displayName": "Gabriela Custódio",
      "userId": "17879241500396315997"
     },
     "user_tz": 180
    },
    "id": "uebZDeFldbHi",
    "outputId": "bd37a657-d14c-4922-8396-ab996583432c"
   },
   "outputs": [
    {
     "data": {
      "text/plain": [
       "QT_MAT_BAS_ND           352.0\n",
       "QT_MAT_BAS_BRANCA       224.0\n",
       "QT_MAT_BAS_PRETA         34.0\n",
       "QT_MAT_BAS_PARDA       3503.0\n",
       "QT_MAT_BAS_AMARELA        7.0\n",
       "QT_MAT_BAS_INDIGENA       3.0\n",
       "dtype: float64"
      ]
     },
     "execution_count": 161,
     "metadata": {},
     "output_type": "execute_result"
    }
   ],
   "source": [
    "# verificando matrículas por cor/raça nas escolas nota 10\n",
    "\n",
    "qtd_matriculas_cor_raca_alunos_escolas_nota_10 = escolas_premiadas_massape[['NO_ENTIDADE', 'CO_ENTIDADE', 'QT_MAT_BAS_ND', 'QT_MAT_BAS_BRANCA',\n",
    "                                           'QT_MAT_BAS_PRETA', 'QT_MAT_BAS_PARDA', 'QT_MAT_BAS_AMARELA', 'QT_MAT_BAS_INDIGENA']]\n",
    "\n",
    "qtd_matriculas_cor_raca_alunos_escolas_nota_10[['QT_MAT_BAS_ND', 'QT_MAT_BAS_BRANCA','QT_MAT_BAS_PRETA', 'QT_MAT_BAS_PARDA', 'QT_MAT_BAS_AMARELA', 'QT_MAT_BAS_INDIGENA']].sum()"
   ]
  },
  {
   "cell_type": "code",
   "execution_count": 162,
   "metadata": {
    "colab": {
     "base_uri": "https://localhost:8080/"
    },
    "executionInfo": {
     "elapsed": 6,
     "status": "ok",
     "timestamp": 1687834073083,
     "user": {
      "displayName": "Gabriela Custódio",
      "userId": "17879241500396315997"
     },
     "user_tz": 180
    },
    "id": "C2wLhx9FdpOy",
    "outputId": "0a27c33c-4375-4756-9a86-47b07bcf655d"
   },
   "outputs": [
    {
     "data": {
      "text/plain": [
       "QT_DOC_FUND    219.0\n",
       "dtype: float64"
      ]
     },
     "execution_count": 162,
     "metadata": {},
     "output_type": "execute_result"
    }
   ],
   "source": [
    "# verificando a quantidade de docentes que lecionavam nas escolas nota 10 de massapê em 2022\n",
    "\n",
    "docentes_edbasica_nota10_massape = escolas_premiadas_massape[['NO_ENTIDADE', 'CO_ENTIDADE', 'QT_DOC_FUND']]\n",
    "docentes_edbasica_nota10_massape[['QT_DOC_FUND']].sum()"
   ]
  },
  {
   "cell_type": "code",
   "execution_count": 163,
   "metadata": {
    "colab": {
     "base_uri": "https://localhost:8080/"
    },
    "executionInfo": {
     "elapsed": 8,
     "status": "ok",
     "timestamp": 1687834073415,
     "user": {
      "displayName": "Gabriela Custódio",
      "userId": "17879241500396315997"
     },
     "user_tz": 180
    },
    "id": "79k69OBjd08C",
    "outputId": "e4255ed6-12ed-4c22-adf8-864cce042482"
   },
   "outputs": [
    {
     "data": {
      "text/plain": [
       "QT_TUR_FUND    150.0\n",
       "dtype: float64"
      ]
     },
     "execution_count": 163,
     "metadata": {},
     "output_type": "execute_result"
    }
   ],
   "source": [
    "# verificando a quantidade de turmas nas escolas nota 10 de massapê em 2022\n",
    "\n",
    "turmas_edbasica_escolas_nota10_massape = escolas_premiadas_massape[['NO_ENTIDADE', 'CO_ENTIDADE', 'QT_TUR_FUND']]\n",
    "turmas_edbasica_escolas_nota10_massape[['QT_TUR_FUND']].sum()"
   ]
  },
  {
   "cell_type": "markdown",
   "metadata": {
    "id": "ii_e_50EiQBV"
   },
   "source": [
    "#### Escola Padre Linhares"
   ]
  },
  {
   "cell_type": "code",
   "execution_count": 164,
   "metadata": {
    "executionInfo": {
     "elapsed": 20,
     "status": "ok",
     "timestamp": 1687834075397,
     "user": {
      "displayName": "Gabriela Custódio",
      "userId": "17879241500396315997"
     },
     "user_tz": 180
    },
    "id": "X4D_hF2hipx2"
   },
   "outputs": [],
   "source": [
    "eef_padre_linhares = escolas_premiadas_massape[escolas_premiadas_massape['NO_ENTIDADE'].str.contains('PADRE LINHARES')]"
   ]
  },
  {
   "cell_type": "code",
   "execution_count": 165,
   "metadata": {
    "executionInfo": {
     "elapsed": 20,
     "status": "ok",
     "timestamp": 1687834075399,
     "user": {
      "displayName": "Gabriela Custódio",
      "userId": "17879241500396315997"
     },
     "user_tz": 180
    },
    "id": "Xu99BeShiVdV"
   },
   "outputs": [],
   "source": [
    "eef_padre_linhares = eef_padre_linhares[['NO_ENTIDADE', 'NO_ENTIDADE_TITLE', 'QT_MAT_FUND', 'QT_MAT_FUND_INT',\n",
    "                    'QT_MAT_BAS_FEM', 'QT_MAT_BAS_MASC', 'QT_MAT_BAS_ND',\n",
    "                    'QT_MAT_BAS_BRANCA', 'QT_MAT_BAS_PRETA', 'QT_MAT_BAS_PARDA',\n",
    "                    'QT_MAT_BAS_AMARELA', 'QT_MAT_BAS_INDIGENA', 'QT_DOC_FUND',\n",
    "                    'QT_TUR_FUND', 'PREMIACAO', ]]"
   ]
  },
  {
   "cell_type": "code",
   "execution_count": 166,
   "metadata": {
    "colab": {
     "base_uri": "https://localhost:8080/",
     "height": 520
    },
    "executionInfo": {
     "elapsed": 18,
     "status": "ok",
     "timestamp": 1687834075400,
     "user": {
      "displayName": "Gabriela Custódio",
      "userId": "17879241500396315997"
     },
     "user_tz": 180
    },
    "id": "OCIfA3fS70r7",
    "outputId": "4fada33a-9914-4b4b-c1f1-42f44fb9bd5c"
   },
   "outputs": [
    {
     "data": {
      "text/html": [
       "<div>\n",
       "<style scoped>\n",
       "    .dataframe tbody tr th:only-of-type {\n",
       "        vertical-align: middle;\n",
       "    }\n",
       "\n",
       "    .dataframe tbody tr th {\n",
       "        vertical-align: top;\n",
       "    }\n",
       "\n",
       "    .dataframe thead th {\n",
       "        text-align: right;\n",
       "    }\n",
       "</style>\n",
       "<table border=\"1\" class=\"dataframe\">\n",
       "  <thead>\n",
       "    <tr style=\"text-align: right;\">\n",
       "      <th></th>\n",
       "      <th>53437</th>\n",
       "    </tr>\n",
       "  </thead>\n",
       "  <tbody>\n",
       "    <tr>\n",
       "      <th>NO_ENTIDADE</th>\n",
       "      <td>PADRE LINHARES EEF</td>\n",
       "    </tr>\n",
       "    <tr>\n",
       "      <th>NO_ENTIDADE_TITLE</th>\n",
       "      <td>Padre Linhares Eef</td>\n",
       "    </tr>\n",
       "    <tr>\n",
       "      <th>QT_MAT_FUND</th>\n",
       "      <td>265.0</td>\n",
       "    </tr>\n",
       "    <tr>\n",
       "      <th>QT_MAT_FUND_INT</th>\n",
       "      <td>7.0</td>\n",
       "    </tr>\n",
       "    <tr>\n",
       "      <th>QT_MAT_BAS_FEM</th>\n",
       "      <td>128.0</td>\n",
       "    </tr>\n",
       "    <tr>\n",
       "      <th>QT_MAT_BAS_MASC</th>\n",
       "      <td>137.0</td>\n",
       "    </tr>\n",
       "    <tr>\n",
       "      <th>QT_MAT_BAS_ND</th>\n",
       "      <td>20.0</td>\n",
       "    </tr>\n",
       "    <tr>\n",
       "      <th>QT_MAT_BAS_BRANCA</th>\n",
       "      <td>14.0</td>\n",
       "    </tr>\n",
       "    <tr>\n",
       "      <th>QT_MAT_BAS_PRETA</th>\n",
       "      <td>1.0</td>\n",
       "    </tr>\n",
       "    <tr>\n",
       "      <th>QT_MAT_BAS_PARDA</th>\n",
       "      <td>230.0</td>\n",
       "    </tr>\n",
       "    <tr>\n",
       "      <th>QT_MAT_BAS_AMARELA</th>\n",
       "      <td>0.0</td>\n",
       "    </tr>\n",
       "    <tr>\n",
       "      <th>QT_MAT_BAS_INDIGENA</th>\n",
       "      <td>0.0</td>\n",
       "    </tr>\n",
       "    <tr>\n",
       "      <th>QT_DOC_FUND</th>\n",
       "      <td>14.0</td>\n",
       "    </tr>\n",
       "    <tr>\n",
       "      <th>QT_TUR_FUND</th>\n",
       "      <td>10.0</td>\n",
       "    </tr>\n",
       "    <tr>\n",
       "      <th>PREMIACAO</th>\n",
       "      <td>Premiada</td>\n",
       "    </tr>\n",
       "  </tbody>\n",
       "</table>\n",
       "</div>"
      ],
      "text/plain": [
       "                                  53437\n",
       "NO_ENTIDADE          PADRE LINHARES EEF\n",
       "NO_ENTIDADE_TITLE    Padre Linhares Eef\n",
       "QT_MAT_FUND                       265.0\n",
       "QT_MAT_FUND_INT                     7.0\n",
       "QT_MAT_BAS_FEM                    128.0\n",
       "QT_MAT_BAS_MASC                   137.0\n",
       "QT_MAT_BAS_ND                      20.0\n",
       "QT_MAT_BAS_BRANCA                  14.0\n",
       "QT_MAT_BAS_PRETA                    1.0\n",
       "QT_MAT_BAS_PARDA                  230.0\n",
       "QT_MAT_BAS_AMARELA                  0.0\n",
       "QT_MAT_BAS_INDIGENA                 0.0\n",
       "QT_DOC_FUND                        14.0\n",
       "QT_TUR_FUND                        10.0\n",
       "PREMIACAO                      Premiada"
      ]
     },
     "execution_count": 166,
     "metadata": {},
     "output_type": "execute_result"
    }
   ],
   "source": [
    "eef_padre_linhares.T"
   ]
  },
  {
   "cell_type": "code",
   "execution_count": 68,
   "metadata": {
    "executionInfo": {
     "elapsed": 398,
     "status": "ok",
     "timestamp": 1687834077240,
     "user": {
      "displayName": "Gabriela Custódio",
      "userId": "17879241500396315997"
     },
     "user_tz": 180
    },
    "id": "iGDIluLf9NJN"
   },
   "outputs": [],
   "source": []
  }
 ],
 "metadata": {
  "colab": {
   "authorship_tag": "ABX9TyMicHS2RXUWFdibXu0gwzlA",
   "collapsed_sections": [
    "8rzc1O1jJpWw",
    "HEjPlIlsnaer"
   ],
   "mount_file_id": "1oRb4sdPZQnS-j0ixRB6psXZ97eGdIp7G",
   "provenance": []
  },
  "kernelspec": {
   "display_name": "Python 3 (ipykernel)",
   "language": "python",
   "name": "python3"
  },
  "language_info": {
   "codemirror_mode": {
    "name": "ipython",
    "version": 3
   },
   "file_extension": ".py",
   "mimetype": "text/x-python",
   "name": "python",
   "nbconvert_exporter": "python",
   "pygments_lexer": "ipython3",
   "version": "3.9.7"
  }
 },
 "nbformat": 4,
 "nbformat_minor": 1
}
